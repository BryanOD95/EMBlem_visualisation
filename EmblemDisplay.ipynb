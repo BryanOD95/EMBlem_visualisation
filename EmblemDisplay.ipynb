{
 "cells": [
  {
   "cell_type": "code",
   "execution_count": 85,
   "id": "intended-coordinator",
   "metadata": {},
   "outputs": [],
   "source": [
    "import xgboost as xgb\n",
    "import pandas as pd\n",
    "import matplotlib as plt\n",
    "from sklearn.preprocessing import OneHotEncoder\n",
    "import numpy as np\n",
    "import sys\n",
    "import statsmodels.api as sm\n",
    "import statsmodels.formula.api as smf\n",
    "from statsmodels.formula.api import glm\n",
    "import matplotlib.pyplot as plt #likley won't be used much as i'm experimenting with plotly \n",
    "import plotly.graph_objects as go #you will be learning how go and px work with me! \n",
    "import plotly.express as px \n",
    "import collections\n",
    "from plotly.offline import download_plotlyjs, init_notebook_mode, plot, iplot\n",
    "import seaborn as sns\n",
    "import math"
   ]
  },
  {
   "cell_type": "code",
   "execution_count": 2,
   "id": "vertical-drain",
   "metadata": {},
   "outputs": [],
   "source": [
    "#pip install seaborn"
   ]
  },
  {
   "cell_type": "code",
   "execution_count": 146,
   "id": "sophisticated-hungarian",
   "metadata": {},
   "outputs": [
    {
     "data": {
      "text/html": [
       "<div>\n",
       "<style scoped>\n",
       "    .dataframe tbody tr th:only-of-type {\n",
       "        vertical-align: middle;\n",
       "    }\n",
       "\n",
       "    .dataframe tbody tr th {\n",
       "        vertical-align: top;\n",
       "    }\n",
       "\n",
       "    .dataframe thead th {\n",
       "        text-align: right;\n",
       "    }\n",
       "</style>\n",
       "<table border=\"1\" class=\"dataframe\">\n",
       "  <thead>\n",
       "    <tr style=\"text-align: right;\">\n",
       "      <th></th>\n",
       "      <th>weight</th>\n",
       "      <th>polnum</th>\n",
       "      <th>time</th>\n",
       "      <th>heating_system</th>\n",
       "      <th>num_bedroom</th>\n",
       "      <th>converted</th>\n",
       "      <th>randFact</th>\n",
       "    </tr>\n",
       "  </thead>\n",
       "  <tbody>\n",
       "    <tr>\n",
       "      <th>0</th>\n",
       "      <td>1</td>\n",
       "      <td>x_mst_001</td>\n",
       "      <td>0</td>\n",
       "      <td>electric</td>\n",
       "      <td>4</td>\n",
       "      <td>0</td>\n",
       "      <td>0.606759</td>\n",
       "    </tr>\n",
       "    <tr>\n",
       "      <th>1</th>\n",
       "      <td>1</td>\n",
       "      <td>x_mst_002</td>\n",
       "      <td>0</td>\n",
       "      <td>electric</td>\n",
       "      <td>4</td>\n",
       "      <td>0</td>\n",
       "      <td>0.445243</td>\n",
       "    </tr>\n",
       "    <tr>\n",
       "      <th>2</th>\n",
       "      <td>1</td>\n",
       "      <td>x_mst_003</td>\n",
       "      <td>0</td>\n",
       "      <td>solid</td>\n",
       "      <td>2</td>\n",
       "      <td>1</td>\n",
       "      <td>0.114388</td>\n",
       "    </tr>\n",
       "    <tr>\n",
       "      <th>3</th>\n",
       "      <td>1</td>\n",
       "      <td>x_mst_004</td>\n",
       "      <td>0</td>\n",
       "      <td>solid</td>\n",
       "      <td>2</td>\n",
       "      <td>1</td>\n",
       "      <td>0.827792</td>\n",
       "    </tr>\n",
       "    <tr>\n",
       "      <th>4</th>\n",
       "      <td>1</td>\n",
       "      <td>x_mst_005</td>\n",
       "      <td>0</td>\n",
       "      <td>gas</td>\n",
       "      <td>3</td>\n",
       "      <td>1</td>\n",
       "      <td>0.366286</td>\n",
       "    </tr>\n",
       "    <tr>\n",
       "      <th>...</th>\n",
       "      <td>...</td>\n",
       "      <td>...</td>\n",
       "      <td>...</td>\n",
       "      <td>...</td>\n",
       "      <td>...</td>\n",
       "      <td>...</td>\n",
       "      <td>...</td>\n",
       "    </tr>\n",
       "    <tr>\n",
       "      <th>994</th>\n",
       "      <td>1</td>\n",
       "      <td>x_mst_995</td>\n",
       "      <td>2</td>\n",
       "      <td>solid</td>\n",
       "      <td>4</td>\n",
       "      <td>1</td>\n",
       "      <td>0.790298</td>\n",
       "    </tr>\n",
       "    <tr>\n",
       "      <th>995</th>\n",
       "      <td>1</td>\n",
       "      <td>x_mst_996</td>\n",
       "      <td>2</td>\n",
       "      <td>gas</td>\n",
       "      <td>5</td>\n",
       "      <td>0</td>\n",
       "      <td>0.630238</td>\n",
       "    </tr>\n",
       "    <tr>\n",
       "      <th>996</th>\n",
       "      <td>1</td>\n",
       "      <td>x_mst_997</td>\n",
       "      <td>2</td>\n",
       "      <td>gas</td>\n",
       "      <td>4</td>\n",
       "      <td>0</td>\n",
       "      <td>0.823006</td>\n",
       "    </tr>\n",
       "    <tr>\n",
       "      <th>997</th>\n",
       "      <td>1</td>\n",
       "      <td>x_mst_998</td>\n",
       "      <td>2</td>\n",
       "      <td>gas</td>\n",
       "      <td>3</td>\n",
       "      <td>1</td>\n",
       "      <td>0.326454</td>\n",
       "    </tr>\n",
       "    <tr>\n",
       "      <th>998</th>\n",
       "      <td>1</td>\n",
       "      <td>x_mst_999</td>\n",
       "      <td>2</td>\n",
       "      <td>gas</td>\n",
       "      <td>4</td>\n",
       "      <td>0</td>\n",
       "      <td>0.704711</td>\n",
       "    </tr>\n",
       "  </tbody>\n",
       "</table>\n",
       "<p>999 rows × 7 columns</p>\n",
       "</div>"
      ],
      "text/plain": [
       "     weight     polnum  time heating_system  num_bedroom  converted  randFact\n",
       "0         1  x_mst_001     0       electric            4          0  0.606759\n",
       "1         1  x_mst_002     0       electric            4          0  0.445243\n",
       "2         1  x_mst_003     0          solid            2          1  0.114388\n",
       "3         1  x_mst_004     0          solid            2          1  0.827792\n",
       "4         1  x_mst_005     0            gas            3          1  0.366286\n",
       "..      ...        ...   ...            ...          ...        ...       ...\n",
       "994       1  x_mst_995     2          solid            4          1  0.790298\n",
       "995       1  x_mst_996     2            gas            5          0  0.630238\n",
       "996       1  x_mst_997     2            gas            4          0  0.823006\n",
       "997       1  x_mst_998     2            gas            3          1  0.326454\n",
       "998       1  x_mst_999     2            gas            4          0  0.704711\n",
       "\n",
       "[999 rows x 7 columns]"
      ]
     },
     "execution_count": 146,
     "metadata": {},
     "output_type": "execute_result"
    }
   ],
   "source": [
    "data = pd.read_csv(\"data.csv\")\n",
    "data"
   ]
  },
  {
   "cell_type": "code",
   "execution_count": 145,
   "id": "preliminary-crash",
   "metadata": {},
   "outputs": [],
   "source": [
    "#sns.set_theme(style=\"whitegrid\")\n",
    "#ax = sns.boxplot(x=data[\"heating_system\"], y=data[\"num_bedrooms\"], data=data)"
   ]
  },
  {
   "cell_type": "code",
   "execution_count": 157,
   "id": "attached-summer",
   "metadata": {},
   "outputs": [
    {
     "data": {
      "text/html": [
       "<div>\n",
       "<style scoped>\n",
       "    .dataframe tbody tr th:only-of-type {\n",
       "        vertical-align: middle;\n",
       "    }\n",
       "\n",
       "    .dataframe tbody tr th {\n",
       "        vertical-align: top;\n",
       "    }\n",
       "\n",
       "    .dataframe thead th {\n",
       "        text-align: right;\n",
       "    }\n",
       "</style>\n",
       "<table border=\"1\" class=\"dataframe\">\n",
       "  <thead>\n",
       "    <tr style=\"text-align: right;\">\n",
       "      <th></th>\n",
       "      <th>weight</th>\n",
       "      <th>polnum</th>\n",
       "      <th>time</th>\n",
       "      <th>heating_system</th>\n",
       "      <th>num_bedroom</th>\n",
       "      <th>converted</th>\n",
       "      <th>randFact</th>\n",
       "      <th>heating_system_electric</th>\n",
       "      <th>heating_system_gas</th>\n",
       "      <th>heating_system_solid</th>\n",
       "    </tr>\n",
       "  </thead>\n",
       "  <tbody>\n",
       "    <tr>\n",
       "      <th>0</th>\n",
       "      <td>1</td>\n",
       "      <td>x_mst_001</td>\n",
       "      <td>0</td>\n",
       "      <td>electric</td>\n",
       "      <td>4</td>\n",
       "      <td>0</td>\n",
       "      <td>0.606759</td>\n",
       "      <td>1</td>\n",
       "      <td>0</td>\n",
       "      <td>0</td>\n",
       "    </tr>\n",
       "    <tr>\n",
       "      <th>1</th>\n",
       "      <td>1</td>\n",
       "      <td>x_mst_002</td>\n",
       "      <td>0</td>\n",
       "      <td>electric</td>\n",
       "      <td>4</td>\n",
       "      <td>0</td>\n",
       "      <td>0.445243</td>\n",
       "      <td>1</td>\n",
       "      <td>0</td>\n",
       "      <td>0</td>\n",
       "    </tr>\n",
       "    <tr>\n",
       "      <th>2</th>\n",
       "      <td>1</td>\n",
       "      <td>x_mst_003</td>\n",
       "      <td>0</td>\n",
       "      <td>solid</td>\n",
       "      <td>2</td>\n",
       "      <td>1</td>\n",
       "      <td>0.114388</td>\n",
       "      <td>0</td>\n",
       "      <td>0</td>\n",
       "      <td>1</td>\n",
       "    </tr>\n",
       "    <tr>\n",
       "      <th>3</th>\n",
       "      <td>1</td>\n",
       "      <td>x_mst_004</td>\n",
       "      <td>0</td>\n",
       "      <td>solid</td>\n",
       "      <td>2</td>\n",
       "      <td>1</td>\n",
       "      <td>0.827792</td>\n",
       "      <td>0</td>\n",
       "      <td>0</td>\n",
       "      <td>1</td>\n",
       "    </tr>\n",
       "    <tr>\n",
       "      <th>4</th>\n",
       "      <td>1</td>\n",
       "      <td>x_mst_005</td>\n",
       "      <td>0</td>\n",
       "      <td>gas</td>\n",
       "      <td>3</td>\n",
       "      <td>1</td>\n",
       "      <td>0.366286</td>\n",
       "      <td>0</td>\n",
       "      <td>1</td>\n",
       "      <td>0</td>\n",
       "    </tr>\n",
       "    <tr>\n",
       "      <th>...</th>\n",
       "      <td>...</td>\n",
       "      <td>...</td>\n",
       "      <td>...</td>\n",
       "      <td>...</td>\n",
       "      <td>...</td>\n",
       "      <td>...</td>\n",
       "      <td>...</td>\n",
       "      <td>...</td>\n",
       "      <td>...</td>\n",
       "      <td>...</td>\n",
       "    </tr>\n",
       "    <tr>\n",
       "      <th>994</th>\n",
       "      <td>1</td>\n",
       "      <td>x_mst_995</td>\n",
       "      <td>2</td>\n",
       "      <td>solid</td>\n",
       "      <td>4</td>\n",
       "      <td>1</td>\n",
       "      <td>0.790298</td>\n",
       "      <td>0</td>\n",
       "      <td>0</td>\n",
       "      <td>1</td>\n",
       "    </tr>\n",
       "    <tr>\n",
       "      <th>995</th>\n",
       "      <td>1</td>\n",
       "      <td>x_mst_996</td>\n",
       "      <td>2</td>\n",
       "      <td>gas</td>\n",
       "      <td>5</td>\n",
       "      <td>0</td>\n",
       "      <td>0.630238</td>\n",
       "      <td>0</td>\n",
       "      <td>1</td>\n",
       "      <td>0</td>\n",
       "    </tr>\n",
       "    <tr>\n",
       "      <th>996</th>\n",
       "      <td>1</td>\n",
       "      <td>x_mst_997</td>\n",
       "      <td>2</td>\n",
       "      <td>gas</td>\n",
       "      <td>4</td>\n",
       "      <td>0</td>\n",
       "      <td>0.823006</td>\n",
       "      <td>0</td>\n",
       "      <td>1</td>\n",
       "      <td>0</td>\n",
       "    </tr>\n",
       "    <tr>\n",
       "      <th>997</th>\n",
       "      <td>1</td>\n",
       "      <td>x_mst_998</td>\n",
       "      <td>2</td>\n",
       "      <td>gas</td>\n",
       "      <td>3</td>\n",
       "      <td>1</td>\n",
       "      <td>0.326454</td>\n",
       "      <td>0</td>\n",
       "      <td>1</td>\n",
       "      <td>0</td>\n",
       "    </tr>\n",
       "    <tr>\n",
       "      <th>998</th>\n",
       "      <td>1</td>\n",
       "      <td>x_mst_999</td>\n",
       "      <td>2</td>\n",
       "      <td>gas</td>\n",
       "      <td>4</td>\n",
       "      <td>0</td>\n",
       "      <td>0.704711</td>\n",
       "      <td>0</td>\n",
       "      <td>1</td>\n",
       "      <td>0</td>\n",
       "    </tr>\n",
       "  </tbody>\n",
       "</table>\n",
       "<p>999 rows × 10 columns</p>\n",
       "</div>"
      ],
      "text/plain": [
       "     weight     polnum  time heating_system  num_bedroom  converted  randFact  \\\n",
       "0         1  x_mst_001     0       electric            4          0  0.606759   \n",
       "1         1  x_mst_002     0       electric            4          0  0.445243   \n",
       "2         1  x_mst_003     0          solid            2          1  0.114388   \n",
       "3         1  x_mst_004     0          solid            2          1  0.827792   \n",
       "4         1  x_mst_005     0            gas            3          1  0.366286   \n",
       "..      ...        ...   ...            ...          ...        ...       ...   \n",
       "994       1  x_mst_995     2          solid            4          1  0.790298   \n",
       "995       1  x_mst_996     2            gas            5          0  0.630238   \n",
       "996       1  x_mst_997     2            gas            4          0  0.823006   \n",
       "997       1  x_mst_998     2            gas            3          1  0.326454   \n",
       "998       1  x_mst_999     2            gas            4          0  0.704711   \n",
       "\n",
       "     heating_system_electric  heating_system_gas  heating_system_solid  \n",
       "0                          1                   0                     0  \n",
       "1                          1                   0                     0  \n",
       "2                          0                   0                     1  \n",
       "3                          0                   0                     1  \n",
       "4                          0                   1                     0  \n",
       "..                       ...                 ...                   ...  \n",
       "994                        0                   0                     1  \n",
       "995                        0                   1                     0  \n",
       "996                        0                   1                     0  \n",
       "997                        0                   1                     0  \n",
       "998                        0                   1                     0  \n",
       "\n",
       "[999 rows x 10 columns]"
      ]
     },
     "execution_count": 157,
     "metadata": {},
     "output_type": "execute_result"
    }
   ],
   "source": [
    "# creating initial dataframe\n",
    "dummy = pd.DataFrame(data[\"heating_system\"], columns=['heating_system'])\n",
    "# generate binary values using get_dummies\n",
    "dum_df = pd.get_dummies(dummy, columns=[\"heating_system\"], prefix=[\"heating_system\"] )\n",
    "# merge with main df bridge_df on key values\n",
    "dummy = data.join(dum_df)\n",
    "heating_df = dummy.drop(['heating_system', \"polnum\"], axis=1)\n",
    "dummy"
   ]
  },
  {
   "cell_type": "code",
   "execution_count": 158,
   "id": "prospective-clone",
   "metadata": {},
   "outputs": [
    {
     "data": {
      "text/html": [
       "<div>\n",
       "<style scoped>\n",
       "    .dataframe tbody tr th:only-of-type {\n",
       "        vertical-align: middle;\n",
       "    }\n",
       "\n",
       "    .dataframe tbody tr th {\n",
       "        vertical-align: top;\n",
       "    }\n",
       "\n",
       "    .dataframe thead th {\n",
       "        text-align: right;\n",
       "    }\n",
       "</style>\n",
       "<table border=\"1\" class=\"dataframe\">\n",
       "  <thead>\n",
       "    <tr style=\"text-align: right;\">\n",
       "      <th></th>\n",
       "      <th>weight</th>\n",
       "      <th>time</th>\n",
       "      <th>num_bedroom</th>\n",
       "      <th>converted</th>\n",
       "      <th>heating_system_electric</th>\n",
       "      <th>heating_system_gas</th>\n",
       "      <th>heating_system_solid</th>\n",
       "    </tr>\n",
       "  </thead>\n",
       "  <tbody>\n",
       "    <tr>\n",
       "      <th>0</th>\n",
       "      <td>1</td>\n",
       "      <td>0</td>\n",
       "      <td>4</td>\n",
       "      <td>0</td>\n",
       "      <td>1</td>\n",
       "      <td>0</td>\n",
       "      <td>0</td>\n",
       "    </tr>\n",
       "    <tr>\n",
       "      <th>1</th>\n",
       "      <td>1</td>\n",
       "      <td>0</td>\n",
       "      <td>4</td>\n",
       "      <td>0</td>\n",
       "      <td>1</td>\n",
       "      <td>0</td>\n",
       "      <td>0</td>\n",
       "    </tr>\n",
       "    <tr>\n",
       "      <th>2</th>\n",
       "      <td>1</td>\n",
       "      <td>0</td>\n",
       "      <td>2</td>\n",
       "      <td>1</td>\n",
       "      <td>0</td>\n",
       "      <td>0</td>\n",
       "      <td>1</td>\n",
       "    </tr>\n",
       "    <tr>\n",
       "      <th>3</th>\n",
       "      <td>1</td>\n",
       "      <td>0</td>\n",
       "      <td>2</td>\n",
       "      <td>1</td>\n",
       "      <td>0</td>\n",
       "      <td>0</td>\n",
       "      <td>1</td>\n",
       "    </tr>\n",
       "    <tr>\n",
       "      <th>4</th>\n",
       "      <td>1</td>\n",
       "      <td>0</td>\n",
       "      <td>3</td>\n",
       "      <td>1</td>\n",
       "      <td>0</td>\n",
       "      <td>1</td>\n",
       "      <td>0</td>\n",
       "    </tr>\n",
       "    <tr>\n",
       "      <th>...</th>\n",
       "      <td>...</td>\n",
       "      <td>...</td>\n",
       "      <td>...</td>\n",
       "      <td>...</td>\n",
       "      <td>...</td>\n",
       "      <td>...</td>\n",
       "      <td>...</td>\n",
       "    </tr>\n",
       "    <tr>\n",
       "      <th>994</th>\n",
       "      <td>1</td>\n",
       "      <td>2</td>\n",
       "      <td>4</td>\n",
       "      <td>1</td>\n",
       "      <td>0</td>\n",
       "      <td>0</td>\n",
       "      <td>1</td>\n",
       "    </tr>\n",
       "    <tr>\n",
       "      <th>995</th>\n",
       "      <td>1</td>\n",
       "      <td>2</td>\n",
       "      <td>5</td>\n",
       "      <td>0</td>\n",
       "      <td>0</td>\n",
       "      <td>1</td>\n",
       "      <td>0</td>\n",
       "    </tr>\n",
       "    <tr>\n",
       "      <th>996</th>\n",
       "      <td>1</td>\n",
       "      <td>2</td>\n",
       "      <td>4</td>\n",
       "      <td>0</td>\n",
       "      <td>0</td>\n",
       "      <td>1</td>\n",
       "      <td>0</td>\n",
       "    </tr>\n",
       "    <tr>\n",
       "      <th>997</th>\n",
       "      <td>1</td>\n",
       "      <td>2</td>\n",
       "      <td>3</td>\n",
       "      <td>1</td>\n",
       "      <td>0</td>\n",
       "      <td>1</td>\n",
       "      <td>0</td>\n",
       "    </tr>\n",
       "    <tr>\n",
       "      <th>998</th>\n",
       "      <td>1</td>\n",
       "      <td>2</td>\n",
       "      <td>4</td>\n",
       "      <td>0</td>\n",
       "      <td>0</td>\n",
       "      <td>1</td>\n",
       "      <td>0</td>\n",
       "    </tr>\n",
       "  </tbody>\n",
       "</table>\n",
       "<p>891 rows × 7 columns</p>\n",
       "</div>"
      ],
      "text/plain": [
       "     weight  time  num_bedroom  converted  heating_system_electric  \\\n",
       "0         1     0            4          0                        1   \n",
       "1         1     0            4          0                        1   \n",
       "2         1     0            2          1                        0   \n",
       "3         1     0            2          1                        0   \n",
       "4         1     0            3          1                        0   \n",
       "..      ...   ...          ...        ...                      ...   \n",
       "994       1     2            4          1                        0   \n",
       "995       1     2            5          0                        0   \n",
       "996       1     2            4          0                        0   \n",
       "997       1     2            3          1                        0   \n",
       "998       1     2            4          0                        0   \n",
       "\n",
       "     heating_system_gas  heating_system_solid  \n",
       "0                     0                     0  \n",
       "1                     0                     0  \n",
       "2                     0                     1  \n",
       "3                     0                     1  \n",
       "4                     1                     0  \n",
       "..                  ...                   ...  \n",
       "994                   0                     1  \n",
       "995                   1                     0  \n",
       "996                   1                     0  \n",
       "997                   1                     0  \n",
       "998                   1                     0  \n",
       "\n",
       "[891 rows x 7 columns]"
      ]
     },
     "execution_count": 158,
     "metadata": {},
     "output_type": "execute_result"
    }
   ],
   "source": [
    "train = heating_df[heating_df[\"randFact\"] < 0.9]\n",
    "test = heating_df[heating_df[\"randFact\"] >= 0.9]\n",
    "train = train.drop(['randFact'], axis=1)\n",
    "test = test.drop(['randFact'], axis=1)\n",
    "train"
   ]
  },
  {
   "cell_type": "code",
   "execution_count": 159,
   "id": "honey-baptist",
   "metadata": {},
   "outputs": [
    {
     "data": {
      "text/plain": [
       "<xgboost.core.DMatrix at 0x206b1300be0>"
      ]
     },
     "execution_count": 159,
     "metadata": {},
     "output_type": "execute_result"
    }
   ],
   "source": [
    "dtrain = xgb.DMatrix(train.drop(['converted'], axis=1), label=train[\"converted\"])\n",
    "dtest = xgb.DMatrix(test.drop(['converted'], axis=1), label=train[\"converted\"])\n",
    "dtest"
   ]
  },
  {
   "cell_type": "code",
   "execution_count": 160,
   "id": "elegant-sharing",
   "metadata": {},
   "outputs": [],
   "source": [
    "param = {'max_depth': 2, 'eta': 1, 'objective': 'binary:logistic'}\n",
    "param['nthread'] = 4\n",
    "param['eval_metric'] = 'auc'\n",
    "evallist = [(dtest, 'eval'), (dtrain, 'train')]\n",
    "num_round = 10\n",
    "bst = xgb.train(param, dtrain, num_round)\n",
    "#bst.save_model('0001.model')\n",
    "\n",
    "# dump model\n",
    "#bst.dump_model('dump.raw.txt')\n",
    "# dump model with feature map\n",
    "#bst.dump_model('dump.raw.txt', 'featmap.txt')"
   ]
  },
  {
   "cell_type": "code",
   "execution_count": 161,
   "id": "wicked-colorado",
   "metadata": {},
   "outputs": [
    {
     "data": {
      "text/plain": [
       "<AxesSubplot:title={'center':'Feature importance'}, xlabel='F score', ylabel='Features'>"
      ]
     },
     "execution_count": 161,
     "metadata": {},
     "output_type": "execute_result"
    },
    {
     "data": {
      "image/png": "[encoded data removed]",
      "text/plain": [
       "<Figure size 432x288 with 1 Axes>"
      ]
     },
     "metadata": {},
     "output_type": "display_data"
    }
   ],
   "source": [
    "xgb.plot_importance(bst)"
   ]
  },
  {
   "cell_type": "code",
   "execution_count": null,
   "id": "funded-suggestion",
   "metadata": {},
   "outputs": [],
   "source": []
  },
  {
   "cell_type": "code",
   "execution_count": null,
   "id": "opponent-accuracy",
   "metadata": {},
   "outputs": [],
   "source": []
  },
  {
   "cell_type": "code",
   "execution_count": null,
   "id": "pregnant-chosen",
   "metadata": {},
   "outputs": [],
   "source": []
  },
  {
   "cell_type": "markdown",
   "id": "aquatic-president",
   "metadata": {},
   "source": [
    "## GLM Fitting"
   ]
  },
  {
   "cell_type": "code",
   "execution_count": 162,
   "id": "blank-sphere",
   "metadata": {},
   "outputs": [
    {
     "name": "stderr",
     "output_type": "stream",
     "text": [
      "<ipython-input-162-711937b1c170>:4: DeprecationWarning:\n",
      "\n",
      "Calling Family(..) with a link class as argument is deprecated.\n",
      "Use an instance of a link class instead.\n",
      "\n"
     ]
    }
   ],
   "source": [
    "factors_fitted = [\"num_bedroom\", \"heating_system_electric\"]\n",
    "formula = 'converted ~ num_bedroom + heating_system_electric'\n",
    "link_function = sm.families.links.logit\n",
    "model_family = sm.families.Binomial(link = link_function)"
   ]
  },
  {
   "cell_type": "code",
   "execution_count": 163,
   "id": "otherwise-snake",
   "metadata": {},
   "outputs": [],
   "source": [
    "model = glm(formula = formula, data = heating_df, family = model_family).fit()"
   ]
  },
  {
   "cell_type": "code",
   "execution_count": 164,
   "id": "european-curve",
   "metadata": {},
   "outputs": [
    {
     "name": "stdout",
     "output_type": "stream",
     "text": [
      "                 Generalized Linear Model Regression Results                  \n",
      "==============================================================================\n",
      "Dep. Variable:              converted   No. Observations:                  999\n",
      "Model:                            GLM   Df Residuals:                      996\n",
      "Model Family:                Binomial   Df Model:                            2\n",
      "Link Function:                  logit   Scale:                          1.0000\n",
      "Method:                          IRLS   Log-Likelihood:                -497.24\n",
      "Date:                Fri, 12 Mar 2021   Deviance:                       994.48\n",
      "Time:                        09:30:34   Pearson chi2:                 1.00e+03\n",
      "No. Iterations:                     4                                         \n",
      "Covariance Type:            nonrobust                                         \n",
      "===========================================================================================\n",
      "                              coef    std err          z      P>|z|      [0.025      0.975]\n",
      "-------------------------------------------------------------------------------------------\n",
      "Intercept                   2.0318      0.279      7.278      0.000       1.485       2.579\n",
      "num_bedroom                -0.0576      0.071     -0.813      0.416      -0.196       0.081\n",
      "heating_system_electric    -1.7413      0.157    -11.057      0.000      -2.050      -1.433\n",
      "===========================================================================================\n"
     ]
    }
   ],
   "source": [
    "print(model.summary())\n",
    "#intercept is the Linear prdictor base value\n"
   ]
  },
  {
   "cell_type": "code",
   "execution_count": 165,
   "id": "moved-simpson",
   "metadata": {},
   "outputs": [
    {
     "data": {
      "text/html": [
       "<div>\n",
       "<style scoped>\n",
       "    .dataframe tbody tr th:only-of-type {\n",
       "        vertical-align: middle;\n",
       "    }\n",
       "\n",
       "    .dataframe tbody tr th {\n",
       "        vertical-align: top;\n",
       "    }\n",
       "\n",
       "    .dataframe thead th {\n",
       "        text-align: right;\n",
       "    }\n",
       "</style>\n",
       "<table border=\"1\" class=\"dataframe\">\n",
       "  <thead>\n",
       "    <tr style=\"text-align: right;\">\n",
       "      <th></th>\n",
       "      <th>weight</th>\n",
       "      <th>polnum</th>\n",
       "      <th>time</th>\n",
       "      <th>heating_system</th>\n",
       "      <th>num_bedroom</th>\n",
       "      <th>converted</th>\n",
       "      <th>randFact</th>\n",
       "      <th>heating_system_electric</th>\n",
       "      <th>heating_system_gas</th>\n",
       "      <th>heating_system_solid</th>\n",
       "      <th>predictions</th>\n",
       "    </tr>\n",
       "  </thead>\n",
       "  <tbody>\n",
       "    <tr>\n",
       "      <th>0</th>\n",
       "      <td>1</td>\n",
       "      <td>x_mst_001</td>\n",
       "      <td>0</td>\n",
       "      <td>electric</td>\n",
       "      <td>4</td>\n",
       "      <td>0</td>\n",
       "      <td>0.606759</td>\n",
       "      <td>1</td>\n",
       "      <td>0</td>\n",
       "      <td>0</td>\n",
       "      <td>0.514992</td>\n",
       "    </tr>\n",
       "    <tr>\n",
       "      <th>1</th>\n",
       "      <td>1</td>\n",
       "      <td>x_mst_002</td>\n",
       "      <td>0</td>\n",
       "      <td>electric</td>\n",
       "      <td>4</td>\n",
       "      <td>0</td>\n",
       "      <td>0.445243</td>\n",
       "      <td>1</td>\n",
       "      <td>0</td>\n",
       "      <td>0</td>\n",
       "      <td>0.514992</td>\n",
       "    </tr>\n",
       "    <tr>\n",
       "      <th>2</th>\n",
       "      <td>1</td>\n",
       "      <td>x_mst_003</td>\n",
       "      <td>0</td>\n",
       "      <td>solid</td>\n",
       "      <td>2</td>\n",
       "      <td>1</td>\n",
       "      <td>0.114388</td>\n",
       "      <td>0</td>\n",
       "      <td>0</td>\n",
       "      <td>1</td>\n",
       "      <td>0.871753</td>\n",
       "    </tr>\n",
       "    <tr>\n",
       "      <th>3</th>\n",
       "      <td>1</td>\n",
       "      <td>x_mst_004</td>\n",
       "      <td>0</td>\n",
       "      <td>solid</td>\n",
       "      <td>2</td>\n",
       "      <td>1</td>\n",
       "      <td>0.827792</td>\n",
       "      <td>0</td>\n",
       "      <td>0</td>\n",
       "      <td>1</td>\n",
       "      <td>0.871753</td>\n",
       "    </tr>\n",
       "    <tr>\n",
       "      <th>4</th>\n",
       "      <td>1</td>\n",
       "      <td>x_mst_005</td>\n",
       "      <td>0</td>\n",
       "      <td>gas</td>\n",
       "      <td>3</td>\n",
       "      <td>1</td>\n",
       "      <td>0.366286</td>\n",
       "      <td>0</td>\n",
       "      <td>1</td>\n",
       "      <td>0</td>\n",
       "      <td>0.865171</td>\n",
       "    </tr>\n",
       "    <tr>\n",
       "      <th>...</th>\n",
       "      <td>...</td>\n",
       "      <td>...</td>\n",
       "      <td>...</td>\n",
       "      <td>...</td>\n",
       "      <td>...</td>\n",
       "      <td>...</td>\n",
       "      <td>...</td>\n",
       "      <td>...</td>\n",
       "      <td>...</td>\n",
       "      <td>...</td>\n",
       "      <td>...</td>\n",
       "    </tr>\n",
       "    <tr>\n",
       "      <th>994</th>\n",
       "      <td>1</td>\n",
       "      <td>x_mst_995</td>\n",
       "      <td>2</td>\n",
       "      <td>solid</td>\n",
       "      <td>4</td>\n",
       "      <td>1</td>\n",
       "      <td>0.790298</td>\n",
       "      <td>0</td>\n",
       "      <td>0</td>\n",
       "      <td>1</td>\n",
       "      <td>0.858307</td>\n",
       "    </tr>\n",
       "    <tr>\n",
       "      <th>995</th>\n",
       "      <td>1</td>\n",
       "      <td>x_mst_996</td>\n",
       "      <td>2</td>\n",
       "      <td>gas</td>\n",
       "      <td>5</td>\n",
       "      <td>0</td>\n",
       "      <td>0.630238</td>\n",
       "      <td>0</td>\n",
       "      <td>1</td>\n",
       "      <td>0</td>\n",
       "      <td>0.851153</td>\n",
       "    </tr>\n",
       "    <tr>\n",
       "      <th>996</th>\n",
       "      <td>1</td>\n",
       "      <td>x_mst_997</td>\n",
       "      <td>2</td>\n",
       "      <td>gas</td>\n",
       "      <td>4</td>\n",
       "      <td>0</td>\n",
       "      <td>0.823006</td>\n",
       "      <td>0</td>\n",
       "      <td>1</td>\n",
       "      <td>0</td>\n",
       "      <td>0.858307</td>\n",
       "    </tr>\n",
       "    <tr>\n",
       "      <th>997</th>\n",
       "      <td>1</td>\n",
       "      <td>x_mst_998</td>\n",
       "      <td>2</td>\n",
       "      <td>gas</td>\n",
       "      <td>3</td>\n",
       "      <td>1</td>\n",
       "      <td>0.326454</td>\n",
       "      <td>0</td>\n",
       "      <td>1</td>\n",
       "      <td>0</td>\n",
       "      <td>0.865171</td>\n",
       "    </tr>\n",
       "    <tr>\n",
       "      <th>998</th>\n",
       "      <td>1</td>\n",
       "      <td>x_mst_999</td>\n",
       "      <td>2</td>\n",
       "      <td>gas</td>\n",
       "      <td>4</td>\n",
       "      <td>0</td>\n",
       "      <td>0.704711</td>\n",
       "      <td>0</td>\n",
       "      <td>1</td>\n",
       "      <td>0</td>\n",
       "      <td>0.858307</td>\n",
       "    </tr>\n",
       "  </tbody>\n",
       "</table>\n",
       "<p>999 rows × 11 columns</p>\n",
       "</div>"
      ],
      "text/plain": [
       "     weight     polnum  time heating_system  num_bedroom  converted  randFact  \\\n",
       "0         1  x_mst_001     0       electric            4          0  0.606759   \n",
       "1         1  x_mst_002     0       electric            4          0  0.445243   \n",
       "2         1  x_mst_003     0          solid            2          1  0.114388   \n",
       "3         1  x_mst_004     0          solid            2          1  0.827792   \n",
       "4         1  x_mst_005     0            gas            3          1  0.366286   \n",
       "..      ...        ...   ...            ...          ...        ...       ...   \n",
       "994       1  x_mst_995     2          solid            4          1  0.790298   \n",
       "995       1  x_mst_996     2            gas            5          0  0.630238   \n",
       "996       1  x_mst_997     2            gas            4          0  0.823006   \n",
       "997       1  x_mst_998     2            gas            3          1  0.326454   \n",
       "998       1  x_mst_999     2            gas            4          0  0.704711   \n",
       "\n",
       "     heating_system_electric  heating_system_gas  heating_system_solid  \\\n",
       "0                          1                   0                     0   \n",
       "1                          1                   0                     0   \n",
       "2                          0                   0                     1   \n",
       "3                          0                   0                     1   \n",
       "4                          0                   1                     0   \n",
       "..                       ...                 ...                   ...   \n",
       "994                        0                   0                     1   \n",
       "995                        0                   1                     0   \n",
       "996                        0                   1                     0   \n",
       "997                        0                   1                     0   \n",
       "998                        0                   1                     0   \n",
       "\n",
       "     predictions  \n",
       "0       0.514992  \n",
       "1       0.514992  \n",
       "2       0.871753  \n",
       "3       0.871753  \n",
       "4       0.865171  \n",
       "..           ...  \n",
       "994     0.858307  \n",
       "995     0.851153  \n",
       "996     0.858307  \n",
       "997     0.865171  \n",
       "998     0.858307  \n",
       "\n",
       "[999 rows x 11 columns]"
      ]
     },
     "execution_count": 165,
     "metadata": {},
     "output_type": "execute_result"
    }
   ],
   "source": [
    "output = dummy\n",
    "output[\"predictions\"]  = model.predict(dummy)\n",
    "output"
   ]
  },
  {
   "cell_type": "code",
   "execution_count": 150,
   "id": "indian-project",
   "metadata": {},
   "outputs": [],
   "source": [
    "#generalised\n",
    "factor = \"heating_sys_gas\"\n",
    "\n",
    "\n",
    "\n",
    "df = set(output[factor])\n",
    "exposure =  dict.fromkeys(df, 0)\n",
    "count = dict.fromkeys(df, 0)\n",
    "conversion = dict.fromkeys(df, 0)\n",
    "prediction = dict.fromkeys(df, 0)\n",
    "exp_tot = output['weight'].sum()\n",
    "multivar = dict.fromkeys(df, 0)\n",
    "\n",
    "\n",
    "for i in df:\n",
    "    exposure[i] = output.loc[output[factor] == i, 'weight'].sum()\n",
    "    count[i] = output.loc[output[factor] == i, 'converted'].sum()\n",
    "    conversion[i] = count[i]/exposure[i]\n",
    "    prediction[i] = output.loc[output[factor] == i, 'predictions'].sum()/exposure[i]\n",
    "    exposure[i] = exposure[i]/exp_tot\n",
    "    \n",
    "    if factor in factors_fitted:\n",
    "        multivar[i] = math.exp(i*model.params[factor])/(1+(math.exp(i*model.params[factor])))\n",
    "    else:\n",
    "        multivar[i] = 0.5"
   ]
  },
  {
   "cell_type": "code",
   "execution_count": 128,
   "id": "reported-peter",
   "metadata": {},
   "outputs": [],
   "source": []
  },
  {
   "cell_type": "code",
   "execution_count": 129,
   "id": "entire-trade",
   "metadata": {},
   "outputs": [],
   "source": []
  },
  {
   "cell_type": "code",
   "execution_count": 130,
   "id": "enhanced-convenience",
   "metadata": {
    "scrolled": false
   },
   "outputs": [
    {
     "data": {
      "application/vnd.plotly.v1+json": {
       "config": {
        "linkText": "Export to plot.ly",
        "plotlyServerURL": "https://plot.ly",
        "showLink": false
       },
       "data": [
        {
         "marker": {
          "color": "rgb(255, 230, 153)"
         },
         "type": "bar",
         "x": [
          0,
          1
         ],
         "y": [
          0.6396396396396397,
          0.36036036036036034
         ],
         "yaxis": "y"
        },
        {
         "marker": {
          "color": "rgb(255, 73, 164)"
         },
         "type": "scatter",
         "x": [
          0,
          1
         ],
         "y": [
          0.729264475743349,
          0.7861111111111111
         ],
         "yaxis": "y2"
        },
        {
         "marker": {
          "color": "rgb(0, 102, 0)"
         },
         "type": "scatter",
         "x": [
          0,
          1
         ],
         "y": [
          0.6870313417952862,
          0.8610749238688038
         ],
         "yaxis": "y2"
        },
        {
         "marker": {
          "color": "rgb(0, 255, 0)"
         },
         "type": "scatter",
         "x": [
          0,
          1
         ],
         "y": [
          0.5,
          0.5
         ],
         "yaxis": "y2"
        }
       ],
       "layout": {
        "barmode": "stack",
        "template": {
         "data": {
          "bar": [
           {
            "error_x": {
             "color": "#2a3f5f"
            },
            "error_y": {
             "color": "#2a3f5f"
            },
            "marker": {
             "line": {
              "color": "#E5ECF6",
              "width": 0.5
             }
            },
            "type": "bar"
           }
          ],
          "barpolar": [
           {
            "marker": {
             "line": {
              "color": "#E5ECF6",
              "width": 0.5
             }
            },
            "type": "barpolar"
           }
          ],
          "carpet": [
           {
            "aaxis": {
             "endlinecolor": "#2a3f5f",
             "gridcolor": "white",
             "linecolor": "white",
             "minorgridcolor": "white",
             "startlinecolor": "#2a3f5f"
            },
            "baxis": {
             "endlinecolor": "#2a3f5f",
             "gridcolor": "white",
             "linecolor": "white",
             "minorgridcolor": "white",
             "startlinecolor": "#2a3f5f"
            },
            "type": "carpet"
           }
          ],
          "choropleth": [
           {
            "colorbar": {
             "outlinewidth": 0,
             "ticks": ""
            },
            "type": "choropleth"
           }
          ],
          "contour": [
           {
            "colorbar": {
             "outlinewidth": 0,
             "ticks": ""
            },
            "colorscale": [
             [
              0,
              "#0d0887"
             ],
             [
              0.1111111111111111,
              "#46039f"
             ],
             [
              0.2222222222222222,
              "#7201a8"
             ],
             [
              0.3333333333333333,
              "#9c179e"
             ],
             [
              0.4444444444444444,
              "#bd3786"
             ],
             [
              0.5555555555555556,
              "#d8576b"
             ],
             [
              0.6666666666666666,
              "#ed7953"
             ],
             [
              0.7777777777777778,
              "#fb9f3a"
             ],
             [
              0.8888888888888888,
              "#fdca26"
             ],
             [
              1,
              "#f0f921"
             ]
            ],
            "type": "contour"
           }
          ],
          "contourcarpet": [
           {
            "colorbar": {
             "outlinewidth": 0,
             "ticks": ""
            },
            "type": "contourcarpet"
           }
          ],
          "heatmap": [
           {
            "colorbar": {
             "outlinewidth": 0,
             "ticks": ""
            },
            "colorscale": [
             [
              0,
              "#0d0887"
             ],
             [
              0.1111111111111111,
              "#46039f"
             ],
             [
              0.2222222222222222,
              "#7201a8"
             ],
             [
              0.3333333333333333,
              "#9c179e"
             ],
             [
              0.4444444444444444,
              "#bd3786"
             ],
             [
              0.5555555555555556,
              "#d8576b"
             ],
             [
              0.6666666666666666,
              "#ed7953"
             ],
             [
              0.7777777777777778,
              "#fb9f3a"
             ],
             [
              0.8888888888888888,
              "#fdca26"
             ],
             [
              1,
              "#f0f921"
             ]
            ],
            "type": "heatmap"
           }
          ],
          "heatmapgl": [
           {
            "colorbar": {
             "outlinewidth": 0,
             "ticks": ""
            },
            "colorscale": [
             [
              0,
              "#0d0887"
             ],
             [
              0.1111111111111111,
              "#46039f"
             ],
             [
              0.2222222222222222,
              "#7201a8"
             ],
             [
              0.3333333333333333,
              "#9c179e"
             ],
             [
              0.4444444444444444,
              "#bd3786"
             ],
             [
              0.5555555555555556,
              "#d8576b"
             ],
             [
              0.6666666666666666,
              "#ed7953"
             ],
             [
              0.7777777777777778,
              "#fb9f3a"
             ],
             [
              0.8888888888888888,
              "#fdca26"
             ],
             [
              1,
              "#f0f921"
             ]
            ],
            "type": "heatmapgl"
           }
          ],
          "histogram": [
           {
            "marker": {
             "colorbar": {
              "outlinewidth": 0,
              "ticks": ""
             }
            },
            "type": "histogram"
           }
          ],
          "histogram2d": [
           {
            "colorbar": {
             "outlinewidth": 0,
             "ticks": ""
            },
            "colorscale": [
             [
              0,
              "#0d0887"
             ],
             [
              0.1111111111111111,
              "#46039f"
             ],
             [
              0.2222222222222222,
              "#7201a8"
             ],
             [
              0.3333333333333333,
              "#9c179e"
             ],
             [
              0.4444444444444444,
              "#bd3786"
             ],
             [
              0.5555555555555556,
              "#d8576b"
             ],
             [
              0.6666666666666666,
              "#ed7953"
             ],
             [
              0.7777777777777778,
              "#fb9f3a"
             ],
             [
              0.8888888888888888,
              "#fdca26"
             ],
             [
              1,
              "#f0f921"
             ]
            ],
            "type": "histogram2d"
           }
          ],
          "histogram2dcontour": [
           {
            "colorbar": {
             "outlinewidth": 0,
             "ticks": ""
            },
            "colorscale": [
             [
              0,
              "#0d0887"
             ],
             [
              0.1111111111111111,
              "#46039f"
             ],
             [
              0.2222222222222222,
              "#7201a8"
             ],
             [
              0.3333333333333333,
              "#9c179e"
             ],
             [
              0.4444444444444444,
              "#bd3786"
             ],
             [
              0.5555555555555556,
              "#d8576b"
             ],
             [
              0.6666666666666666,
              "#ed7953"
             ],
             [
              0.7777777777777778,
              "#fb9f3a"
             ],
             [
              0.8888888888888888,
              "#fdca26"
             ],
             [
              1,
              "#f0f921"
             ]
            ],
            "type": "histogram2dcontour"
           }
          ],
          "mesh3d": [
           {
            "colorbar": {
             "outlinewidth": 0,
             "ticks": ""
            },
            "type": "mesh3d"
           }
          ],
          "parcoords": [
           {
            "line": {
             "colorbar": {
              "outlinewidth": 0,
              "ticks": ""
             }
            },
            "type": "parcoords"
           }
          ],
          "pie": [
           {
            "automargin": true,
            "type": "pie"
           }
          ],
          "scatter": [
           {
            "marker": {
             "colorbar": {
              "outlinewidth": 0,
              "ticks": ""
             }
            },
            "type": "scatter"
           }
          ],
          "scatter3d": [
           {
            "line": {
             "colorbar": {
              "outlinewidth": 0,
              "ticks": ""
             }
            },
            "marker": {
             "colorbar": {
              "outlinewidth": 0,
              "ticks": ""
             }
            },
            "type": "scatter3d"
           }
          ],
          "scattercarpet": [
           {
            "marker": {
             "colorbar": {
              "outlinewidth": 0,
              "ticks": ""
             }
            },
            "type": "scattercarpet"
           }
          ],
          "scattergeo": [
           {
            "marker": {
             "colorbar": {
              "outlinewidth": 0,
              "ticks": ""
             }
            },
            "type": "scattergeo"
           }
          ],
          "scattergl": [
           {
            "marker": {
             "colorbar": {
              "outlinewidth": 0,
              "ticks": ""
             }
            },
            "type": "scattergl"
           }
          ],
          "scattermapbox": [
           {
            "marker": {
             "colorbar": {
              "outlinewidth": 0,
              "ticks": ""
             }
            },
            "type": "scattermapbox"
           }
          ],
          "scatterpolar": [
           {
            "marker": {
             "colorbar": {
              "outlinewidth": 0,
              "ticks": ""
             }
            },
            "type": "scatterpolar"
           }
          ],
          "scatterpolargl": [
           {
            "marker": {
             "colorbar": {
              "outlinewidth": 0,
              "ticks": ""
             }
            },
            "type": "scatterpolargl"
           }
          ],
          "scatterternary": [
           {
            "marker": {
             "colorbar": {
              "outlinewidth": 0,
              "ticks": ""
             }
            },
            "type": "scatterternary"
           }
          ],
          "surface": [
           {
            "colorbar": {
             "outlinewidth": 0,
             "ticks": ""
            },
            "colorscale": [
             [
              0,
              "#0d0887"
             ],
             [
              0.1111111111111111,
              "#46039f"
             ],
             [
              0.2222222222222222,
              "#7201a8"
             ],
             [
              0.3333333333333333,
              "#9c179e"
             ],
             [
              0.4444444444444444,
              "#bd3786"
             ],
             [
              0.5555555555555556,
              "#d8576b"
             ],
             [
              0.6666666666666666,
              "#ed7953"
             ],
             [
              0.7777777777777778,
              "#fb9f3a"
             ],
             [
              0.8888888888888888,
              "#fdca26"
             ],
             [
              1,
              "#f0f921"
             ]
            ],
            "type": "surface"
           }
          ],
          "table": [
           {
            "cells": {
             "fill": {
              "color": "#EBF0F8"
             },
             "line": {
              "color": "white"
             }
            },
            "header": {
             "fill": {
              "color": "#C8D4E3"
             },
             "line": {
              "color": "white"
             }
            },
            "type": "table"
           }
          ]
         },
         "layout": {
          "annotationdefaults": {
           "arrowcolor": "#2a3f5f",
           "arrowhead": 0,
           "arrowwidth": 1
          },
          "autotypenumbers": "strict",
          "coloraxis": {
           "colorbar": {
            "outlinewidth": 0,
            "ticks": ""
           }
          },
          "colorscale": {
           "diverging": [
            [
             0,
             "#8e0152"
            ],
            [
             0.1,
             "#c51b7d"
            ],
            [
             0.2,
             "#de77ae"
            ],
            [
             0.3,
             "#f1b6da"
            ],
            [
             0.4,
             "#fde0ef"
            ],
            [
             0.5,
             "#f7f7f7"
            ],
            [
             0.6,
             "#e6f5d0"
            ],
            [
             0.7,
             "#b8e186"
            ],
            [
             0.8,
             "#7fbc41"
            ],
            [
             0.9,
             "#4d9221"
            ],
            [
             1,
             "#276419"
            ]
           ],
           "sequential": [
            [
             0,
             "#0d0887"
            ],
            [
             0.1111111111111111,
             "#46039f"
            ],
            [
             0.2222222222222222,
             "#7201a8"
            ],
            [
             0.3333333333333333,
             "#9c179e"
            ],
            [
             0.4444444444444444,
             "#bd3786"
            ],
            [
             0.5555555555555556,
             "#d8576b"
            ],
            [
             0.6666666666666666,
             "#ed7953"
            ],
            [
             0.7777777777777778,
             "#fb9f3a"
            ],
            [
             0.8888888888888888,
             "#fdca26"
            ],
            [
             1,
             "#f0f921"
            ]
           ],
           "sequentialminus": [
            [
             0,
             "#0d0887"
            ],
            [
             0.1111111111111111,
             "#46039f"
            ],
            [
             0.2222222222222222,
             "#7201a8"
            ],
            [
             0.3333333333333333,
             "#9c179e"
            ],
            [
             0.4444444444444444,
             "#bd3786"
            ],
            [
             0.5555555555555556,
             "#d8576b"
            ],
            [
             0.6666666666666666,
             "#ed7953"
            ],
            [
             0.7777777777777778,
             "#fb9f3a"
            ],
            [
             0.8888888888888888,
             "#fdca26"
            ],
            [
             1,
             "#f0f921"
            ]
           ]
          },
          "colorway": [
           "#636efa",
           "#EF553B",
           "#00cc96",
           "#ab63fa",
           "#FFA15A",
           "#19d3f3",
           "#FF6692",
           "#B6E880",
           "#FF97FF",
           "#FECB52"
          ],
          "font": {
           "color": "#2a3f5f"
          },
          "geo": {
           "bgcolor": "white",
           "lakecolor": "white",
           "landcolor": "#E5ECF6",
           "showlakes": true,
           "showland": true,
           "subunitcolor": "white"
          },
          "hoverlabel": {
           "align": "left"
          },
          "hovermode": "closest",
          "mapbox": {
           "style": "light"
          },
          "paper_bgcolor": "white",
          "plot_bgcolor": "#E5ECF6",
          "polar": {
           "angularaxis": {
            "gridcolor": "white",
            "linecolor": "white",
            "ticks": ""
           },
           "bgcolor": "#E5ECF6",
           "radialaxis": {
            "gridcolor": "white",
            "linecolor": "white",
            "ticks": ""
           }
          },
          "scene": {
           "xaxis": {
            "backgroundcolor": "#E5ECF6",
            "gridcolor": "white",
            "gridwidth": 2,
            "linecolor": "white",
            "showbackground": true,
            "ticks": "",
            "zerolinecolor": "white"
           },
           "yaxis": {
            "backgroundcolor": "#E5ECF6",
            "gridcolor": "white",
            "gridwidth": 2,
            "linecolor": "white",
            "showbackground": true,
            "ticks": "",
            "zerolinecolor": "white"
           },
           "zaxis": {
            "backgroundcolor": "#E5ECF6",
            "gridcolor": "white",
            "gridwidth": 2,
            "linecolor": "white",
            "showbackground": true,
            "ticks": "",
            "zerolinecolor": "white"
           }
          },
          "shapedefaults": {
           "line": {
            "color": "#2a3f5f"
           }
          },
          "ternary": {
           "aaxis": {
            "gridcolor": "white",
            "linecolor": "white",
            "ticks": ""
           },
           "baxis": {
            "gridcolor": "white",
            "linecolor": "white",
            "ticks": ""
           },
           "bgcolor": "#E5ECF6",
           "caxis": {
            "gridcolor": "white",
            "linecolor": "white",
            "ticks": ""
           }
          },
          "title": {
           "x": 0.05
          },
          "xaxis": {
           "automargin": true,
           "gridcolor": "white",
           "linecolor": "white",
           "ticks": "",
           "title": {
            "standoff": 15
           },
           "zerolinecolor": "white",
           "zerolinewidth": 2
          },
          "yaxis": {
           "automargin": true,
           "gridcolor": "white",
           "linecolor": "white",
           "ticks": "",
           "title": {
            "standoff": 15
           },
           "zerolinecolor": "white",
           "zerolinewidth": 2
          }
         }
        },
        "title": {
         "text": "heating_sys_gas"
        },
        "xaxis": {
         "tickvals": [
          0,
          1
         ]
        },
        "yaxis": {
         "range": [
          0,
          1
         ],
         "title": {
          "text": "exposure"
         }
        },
        "yaxis2": {
         "overlaying": "y",
         "range": [
          0,
          1
         ],
         "side": "right",
         "title": {
          "text": "converson"
         }
        }
       }
      },
      "text/html": [
       "<div>                            <div id=\"19af52ba-235d-47b9-b8bd-7d445b7444a8\" class=\"plotly-graph-div\" style=\"height:525px; width:100%;\"></div>            <script type=\"text/javascript\">                require([\"plotly\"], function(Plotly) {                    window.PLOTLYENV=window.PLOTLYENV || {};                                    if (document.getElementById(\"19af52ba-235d-47b9-b8bd-7d445b7444a8\")) {                    Plotly.newPlot(                        \"19af52ba-235d-47b9-b8bd-7d445b7444a8\",                        [{\"marker\": {\"color\": \"rgb(255, 230, 153)\"}, \"type\": \"bar\", \"x\": [0, 1], \"y\": [0.6396396396396397, 0.36036036036036034], \"yaxis\": \"y\"}, {\"marker\": {\"color\": \"rgb(255, 73, 164)\"}, \"type\": \"scatter\", \"x\": [0, 1], \"y\": [0.729264475743349, 0.7861111111111111], \"yaxis\": \"y2\"}, {\"marker\": {\"color\": \"rgb(0, 102, 0)\"}, \"type\": \"scatter\", \"x\": [0, 1], \"y\": [0.6870313417952862, 0.8610749238688038], \"yaxis\": \"y2\"}, {\"marker\": {\"color\": \"rgb(0, 255, 0)\"}, \"type\": \"scatter\", \"x\": [0, 1], \"y\": [0.5, 0.5], \"yaxis\": \"y2\"}],                        {\"barmode\": \"stack\", \"template\": {\"data\": {\"bar\": [{\"error_x\": {\"color\": \"#2a3f5f\"}, \"error_y\": {\"color\": \"#2a3f5f\"}, \"marker\": {\"line\": {\"color\": \"#E5ECF6\", \"width\": 0.5}}, \"type\": \"bar\"}], \"barpolar\": [{\"marker\": {\"line\": {\"color\": \"#E5ECF6\", \"width\": 0.5}}, \"type\": \"barpolar\"}], \"carpet\": [{\"aaxis\": {\"endlinecolor\": \"#2a3f5f\", \"gridcolor\": \"white\", \"linecolor\": \"white\", \"minorgridcolor\": \"white\", \"startlinecolor\": \"#2a3f5f\"}, \"baxis\": {\"endlinecolor\": \"#2a3f5f\", \"gridcolor\": \"white\", \"linecolor\": \"white\", \"minorgridcolor\": \"white\", \"startlinecolor\": \"#2a3f5f\"}, \"type\": \"carpet\"}], \"choropleth\": [{\"colorbar\": {\"outlinewidth\": 0, \"ticks\": \"\"}, \"type\": \"choropleth\"}], \"contour\": [{\"colorbar\": {\"outlinewidth\": 0, \"ticks\": \"\"}, \"colorscale\": [[0.0, \"#0d0887\"], [0.1111111111111111, \"#46039f\"], [0.2222222222222222, \"#7201a8\"], [0.3333333333333333, \"#9c179e\"], [0.4444444444444444, \"#bd3786\"], [0.5555555555555556, \"#d8576b\"], [0.6666666666666666, \"#ed7953\"], [0.7777777777777778, \"#fb9f3a\"], [0.8888888888888888, \"#fdca26\"], [1.0, \"#f0f921\"]], \"type\": \"contour\"}], \"contourcarpet\": [{\"colorbar\": {\"outlinewidth\": 0, \"ticks\": \"\"}, \"type\": \"contourcarpet\"}], \"heatmap\": [{\"colorbar\": {\"outlinewidth\": 0, \"ticks\": \"\"}, \"colorscale\": [[0.0, \"#0d0887\"], [0.1111111111111111, \"#46039f\"], [0.2222222222222222, \"#7201a8\"], [0.3333333333333333, \"#9c179e\"], [0.4444444444444444, \"#bd3786\"], [0.5555555555555556, \"#d8576b\"], [0.6666666666666666, \"#ed7953\"], [0.7777777777777778, \"#fb9f3a\"], [0.8888888888888888, \"#fdca26\"], [1.0, \"#f0f921\"]], \"type\": \"heatmap\"}], \"heatmapgl\": [{\"colorbar\": {\"outlinewidth\": 0, \"ticks\": \"\"}, \"colorscale\": [[0.0, \"#0d0887\"], [0.1111111111111111, \"#46039f\"], [0.2222222222222222, \"#7201a8\"], [0.3333333333333333, \"#9c179e\"], [0.4444444444444444, \"#bd3786\"], [0.5555555555555556, \"#d8576b\"], [0.6666666666666666, \"#ed7953\"], [0.7777777777777778, \"#fb9f3a\"], [0.8888888888888888, \"#fdca26\"], [1.0, \"#f0f921\"]], \"type\": \"heatmapgl\"}], \"histogram\": [{\"marker\": {\"colorbar\": {\"outlinewidth\": 0, \"ticks\": \"\"}}, \"type\": \"histogram\"}], \"histogram2d\": [{\"colorbar\": {\"outlinewidth\": 0, \"ticks\": \"\"}, \"colorscale\": [[0.0, \"#0d0887\"], [0.1111111111111111, \"#46039f\"], [0.2222222222222222, \"#7201a8\"], [0.3333333333333333, \"#9c179e\"], [0.4444444444444444, \"#bd3786\"], [0.5555555555555556, \"#d8576b\"], [0.6666666666666666, \"#ed7953\"], [0.7777777777777778, \"#fb9f3a\"], [0.8888888888888888, \"#fdca26\"], [1.0, \"#f0f921\"]], \"type\": \"histogram2d\"}], \"histogram2dcontour\": [{\"colorbar\": {\"outlinewidth\": 0, \"ticks\": \"\"}, \"colorscale\": [[0.0, \"#0d0887\"], [0.1111111111111111, \"#46039f\"], [0.2222222222222222, \"#7201a8\"], [0.3333333333333333, \"#9c179e\"], [0.4444444444444444, \"#bd3786\"], [0.5555555555555556, \"#d8576b\"], [0.6666666666666666, \"#ed7953\"], [0.7777777777777778, \"#fb9f3a\"], [0.8888888888888888, \"#fdca26\"], [1.0, \"#f0f921\"]], \"type\": \"histogram2dcontour\"}], \"mesh3d\": [{\"colorbar\": {\"outlinewidth\": 0, \"ticks\": \"\"}, \"type\": \"mesh3d\"}], \"parcoords\": [{\"line\": {\"colorbar\": {\"outlinewidth\": 0, \"ticks\": \"\"}}, \"type\": \"parcoords\"}], \"pie\": [{\"automargin\": true, \"type\": \"pie\"}], \"scatter\": [{\"marker\": {\"colorbar\": {\"outlinewidth\": 0, \"ticks\": \"\"}}, \"type\": \"scatter\"}], \"scatter3d\": [{\"line\": {\"colorbar\": {\"outlinewidth\": 0, \"ticks\": \"\"}}, \"marker\": {\"colorbar\": {\"outlinewidth\": 0, \"ticks\": \"\"}}, \"type\": \"scatter3d\"}], \"scattercarpet\": [{\"marker\": {\"colorbar\": {\"outlinewidth\": 0, \"ticks\": \"\"}}, \"type\": \"scattercarpet\"}], \"scattergeo\": [{\"marker\": {\"colorbar\": {\"outlinewidth\": 0, \"ticks\": \"\"}}, \"type\": \"scattergeo\"}], \"scattergl\": [{\"marker\": {\"colorbar\": {\"outlinewidth\": 0, \"ticks\": \"\"}}, \"type\": \"scattergl\"}], \"scattermapbox\": [{\"marker\": {\"colorbar\": {\"outlinewidth\": 0, \"ticks\": \"\"}}, \"type\": \"scattermapbox\"}], \"scatterpolar\": [{\"marker\": {\"colorbar\": {\"outlinewidth\": 0, \"ticks\": \"\"}}, \"type\": \"scatterpolar\"}], \"scatterpolargl\": [{\"marker\": {\"colorbar\": {\"outlinewidth\": 0, \"ticks\": \"\"}}, \"type\": \"scatterpolargl\"}], \"scatterternary\": [{\"marker\": {\"colorbar\": {\"outlinewidth\": 0, \"ticks\": \"\"}}, \"type\": \"scatterternary\"}], \"surface\": [{\"colorbar\": {\"outlinewidth\": 0, \"ticks\": \"\"}, \"colorscale\": [[0.0, \"#0d0887\"], [0.1111111111111111, \"#46039f\"], [0.2222222222222222, \"#7201a8\"], [0.3333333333333333, \"#9c179e\"], [0.4444444444444444, \"#bd3786\"], [0.5555555555555556, \"#d8576b\"], [0.6666666666666666, \"#ed7953\"], [0.7777777777777778, \"#fb9f3a\"], [0.8888888888888888, \"#fdca26\"], [1.0, \"#f0f921\"]], \"type\": \"surface\"}], \"table\": [{\"cells\": {\"fill\": {\"color\": \"#EBF0F8\"}, \"line\": {\"color\": \"white\"}}, \"header\": {\"fill\": {\"color\": \"#C8D4E3\"}, \"line\": {\"color\": \"white\"}}, \"type\": \"table\"}]}, \"layout\": {\"annotationdefaults\": {\"arrowcolor\": \"#2a3f5f\", \"arrowhead\": 0, \"arrowwidth\": 1}, \"autotypenumbers\": \"strict\", \"coloraxis\": {\"colorbar\": {\"outlinewidth\": 0, \"ticks\": \"\"}}, \"colorscale\": {\"diverging\": [[0, \"#8e0152\"], [0.1, \"#c51b7d\"], [0.2, \"#de77ae\"], [0.3, \"#f1b6da\"], [0.4, \"#fde0ef\"], [0.5, \"#f7f7f7\"], [0.6, \"#e6f5d0\"], [0.7, \"#b8e186\"], [0.8, \"#7fbc41\"], [0.9, \"#4d9221\"], [1, \"#276419\"]], \"sequential\": [[0.0, \"#0d0887\"], [0.1111111111111111, \"#46039f\"], [0.2222222222222222, \"#7201a8\"], [0.3333333333333333, \"#9c179e\"], [0.4444444444444444, \"#bd3786\"], [0.5555555555555556, \"#d8576b\"], [0.6666666666666666, \"#ed7953\"], [0.7777777777777778, \"#fb9f3a\"], [0.8888888888888888, \"#fdca26\"], [1.0, \"#f0f921\"]], \"sequentialminus\": [[0.0, \"#0d0887\"], [0.1111111111111111, \"#46039f\"], [0.2222222222222222, \"#7201a8\"], [0.3333333333333333, \"#9c179e\"], [0.4444444444444444, \"#bd3786\"], [0.5555555555555556, \"#d8576b\"], [0.6666666666666666, \"#ed7953\"], [0.7777777777777778, \"#fb9f3a\"], [0.8888888888888888, \"#fdca26\"], [1.0, \"#f0f921\"]]}, \"colorway\": [\"#636efa\", \"#EF553B\", \"#00cc96\", \"#ab63fa\", \"#FFA15A\", \"#19d3f3\", \"#FF6692\", \"#B6E880\", \"#FF97FF\", \"#FECB52\"], \"font\": {\"color\": \"#2a3f5f\"}, \"geo\": {\"bgcolor\": \"white\", \"lakecolor\": \"white\", \"landcolor\": \"#E5ECF6\", \"showlakes\": true, \"showland\": true, \"subunitcolor\": \"white\"}, \"hoverlabel\": {\"align\": \"left\"}, \"hovermode\": \"closest\", \"mapbox\": {\"style\": \"light\"}, \"paper_bgcolor\": \"white\", \"plot_bgcolor\": \"#E5ECF6\", \"polar\": {\"angularaxis\": {\"gridcolor\": \"white\", \"linecolor\": \"white\", \"ticks\": \"\"}, \"bgcolor\": \"#E5ECF6\", \"radialaxis\": {\"gridcolor\": \"white\", \"linecolor\": \"white\", \"ticks\": \"\"}}, \"scene\": {\"xaxis\": {\"backgroundcolor\": \"#E5ECF6\", \"gridcolor\": \"white\", \"gridwidth\": 2, \"linecolor\": \"white\", \"showbackground\": true, \"ticks\": \"\", \"zerolinecolor\": \"white\"}, \"yaxis\": {\"backgroundcolor\": \"#E5ECF6\", \"gridcolor\": \"white\", \"gridwidth\": 2, \"linecolor\": \"white\", \"showbackground\": true, \"ticks\": \"\", \"zerolinecolor\": \"white\"}, \"zaxis\": {\"backgroundcolor\": \"#E5ECF6\", \"gridcolor\": \"white\", \"gridwidth\": 2, \"linecolor\": \"white\", \"showbackground\": true, \"ticks\": \"\", \"zerolinecolor\": \"white\"}}, \"shapedefaults\": {\"line\": {\"color\": \"#2a3f5f\"}}, \"ternary\": {\"aaxis\": {\"gridcolor\": \"white\", \"linecolor\": \"white\", \"ticks\": \"\"}, \"baxis\": {\"gridcolor\": \"white\", \"linecolor\": \"white\", \"ticks\": \"\"}, \"bgcolor\": \"#E5ECF6\", \"caxis\": {\"gridcolor\": \"white\", \"linecolor\": \"white\", \"ticks\": \"\"}}, \"title\": {\"x\": 0.05}, \"xaxis\": {\"automargin\": true, \"gridcolor\": \"white\", \"linecolor\": \"white\", \"ticks\": \"\", \"title\": {\"standoff\": 15}, \"zerolinecolor\": \"white\", \"zerolinewidth\": 2}, \"yaxis\": {\"automargin\": true, \"gridcolor\": \"white\", \"linecolor\": \"white\", \"ticks\": \"\", \"title\": {\"standoff\": 15}, \"zerolinecolor\": \"white\", \"zerolinewidth\": 2}}}, \"title\": {\"text\": \"heating_sys_gas\"}, \"xaxis\": {\"tickvals\": [0, 1]}, \"yaxis\": {\"range\": [0, 1], \"title\": {\"text\": \"exposure\"}}, \"yaxis2\": {\"overlaying\": \"y\", \"range\": [0, 1], \"side\": \"right\", \"title\": {\"text\": \"converson\"}}},                        {\"responsive\": true}                    ).then(function(){\n",
       "                            \n",
       "var gd = document.getElementById('19af52ba-235d-47b9-b8bd-7d445b7444a8');\n",
       "var x = new MutationObserver(function (mutations, observer) {{\n",
       "        var display = window.getComputedStyle(gd).display;\n",
       "        if (!display || display === 'none') {{\n",
       "            console.log([gd, 'removed!']);\n",
       "            Plotly.purge(gd);\n",
       "            observer.disconnect();\n",
       "        }}\n",
       "}});\n",
       "\n",
       "// Listen for the removal of the full notebook cells\n",
       "var notebookContainer = gd.closest('#notebook-container');\n",
       "if (notebookContainer) {{\n",
       "    x.observe(notebookContainer, {childList: true});\n",
       "}}\n",
       "\n",
       "// Listen for the clearing of the current output cell\n",
       "var outputEl = gd.closest('.output');\n",
       "if (outputEl) {{\n",
       "    x.observe(outputEl, {childList: true});\n",
       "}}\n",
       "\n",
       "                        })                };                });            </script>        </div>"
      ]
     },
     "metadata": {},
     "output_type": "display_data"
    }
   ],
   "source": [
    "#iteration 1\n",
    "\n",
    "fig = go.Figure()\n",
    "#fig.add_trace(go.Bar(x= list(exposure.keys()), y=list(exposure.values())))\n",
    "#fig.add_trace(go.scatter(x= list(conversion.keys()), y=list(conversion.values())))\n",
    "\n",
    "data = [\n",
    "    go.Bar(\n",
    "        x= list(exposure.keys()), \n",
    "        y= list(exposure.values()),\n",
    "        yaxis='y1',\n",
    "        marker_color='rgb(255, 230, 153)'\n",
    "    ),\n",
    "    go.Scatter(\n",
    "        x= list(conversion.keys()),\n",
    "        y= list(conversion.values()),\n",
    "        yaxis='y2',\n",
    "        marker_color='rgb(255, 73, 164)'\n",
    "    ),\n",
    "    go.Scatter(\n",
    "        x= list(prediction.keys()),\n",
    "        y= list(prediction.values()),\n",
    "        yaxis='y2',\n",
    "        marker_color='rgb(0, 102, 0)'\n",
    "    ),\n",
    "    go.Scatter(\n",
    "        x= list(multivar.keys()),\n",
    "        y= list(multivar.values()),\n",
    "        yaxis='y2',\n",
    "        marker_color='rgb(0, 255, 0)'\n",
    "    )\n",
    "\n",
    "]\n",
    "\n",
    "layout = go.Layout(\n",
    "    barmode='stack',\n",
    "    title=factor,\n",
    "    xaxis = dict(tickvals=list(exposure.keys())),\n",
    "    yaxis=dict(title='exposure',\n",
    "              range = [0,1]),\n",
    "    yaxis2=dict(title='converson',\n",
    "    overlaying='y',\n",
    "    side='right',\n",
    "    range = [0,1])\n",
    ")\n",
    "\n",
    "fig = go.Figure(data=data, layout=layout)\n",
    "#fig.update_yaxes(range=[3, 9])\n",
    "#fig.add_trace(secondary_y=True)\n",
    "# IPython notebook\n",
    "iplot(fig, filename='pandas-bar-chart-layout')"
   ]
  },
  {
   "cell_type": "code",
   "execution_count": 180,
   "id": "imposed-smoke",
   "metadata": {},
   "outputs": [],
   "source": [
    "#generalised\n",
    "\n",
    "\n",
    "def emblem_display (factor):\n",
    "\n",
    "    df = set(output[factor])\n",
    "    exposure =  dict.fromkeys(df, 0)\n",
    "    count = dict.fromkeys(df, 0)\n",
    "    conversion = dict.fromkeys(df, 0)\n",
    "    prediction = dict.fromkeys(df, 0)\n",
    "    exp_tot = output['weight'].sum()\n",
    "    multivar = dict.fromkeys(df, 0)\n",
    "\n",
    "\n",
    "    for i in df:\n",
    "        exposure[i] = output.loc[output[factor] == i, 'weight'].sum()\n",
    "        count[i] = output.loc[output[factor] == i, 'converted'].sum()\n",
    "        conversion[i] = count[i]/exposure[i]\n",
    "        prediction[i] = output.loc[output[factor] == i, 'predictions'].sum()/exposure[i]\n",
    "        exposure[i] = exposure[i]/exp_tot\n",
    "\n",
    "        if factor in factors_fitted:\n",
    "            multivar[i] = math.exp(i*model.params[factor])/(1+(math.exp(i*model.params[factor])))\n",
    "        elif str(factor + \"_\" + i) in factors_fitted:        \n",
    "            multivar[i] = math.exp(model.params[factor + \"_\" + i])/(1+(math.exp(model.params[factor + \"_\" + i])))\n",
    "        else:\n",
    "            multivar[i] = 0.5\n",
    "            \n",
    "            \n",
    "            \n",
    "    fig = go.Figure()\n",
    "    \n",
    "      \n",
    "\n",
    "    data = [\n",
    "        go.Bar(\n",
    "            x= list(exposure.keys()), \n",
    "            y= list(exposure.values()),\n",
    "            yaxis='y1',\n",
    "            marker_color='rgb(255, 230, 153)',\n",
    "            name = \"exposure\"\n",
    "        ),\n",
    "        go.Scatter(\n",
    "            x= list(conversion.keys()),\n",
    "            y= list(conversion.values()),\n",
    "            yaxis='y2',\n",
    "            marker_color='rgb(255, 73, 164)',\n",
    "            name = \"conversion\"\n",
    "        ),\n",
    "        go.Scatter(\n",
    "            x= list(prediction.keys()),\n",
    "            y= list(prediction.values()),\n",
    "            yaxis='y2',\n",
    "            marker_color='rgb(0, 102, 0)',\n",
    "            name = \"prediction\"\n",
    "        ),\n",
    "        go.Scatter(\n",
    "            x= list(multivar.keys()),\n",
    "            y= list(multivar.values()),\n",
    "            yaxis='y2',\n",
    "            marker_color='rgb(0, 255, 0)',\n",
    "            name = \"multivar\"\n",
    "        )\n",
    "\n",
    "    ]\n",
    "\n",
    "    layout = go.Layout(\n",
    "        barmode='stack',\n",
    "        title=factor,\n",
    "        xaxis = dict(tickvals=list(exposure.keys())),\n",
    "        yaxis=dict(title='exposure',\n",
    "                  range = [0,1]),\n",
    "        yaxis2=dict(title='converson',\n",
    "        overlaying='y',\n",
    "        side='right',\n",
    "        range = [0,1])\n",
    "    )\n",
    "\n",
    "    fig = go.Figure(data=data, layout=layout)\n",
    "    #fig.update_yaxes(range=[3, 9])\n",
    "    #fig.add_trace(secondary_y=True)\n",
    "    # IPython notebook\n",
    "    iplot(fig, filename='pandas-bar-chart-layout')"
   ]
  },
  {
   "cell_type": "code",
   "execution_count": 181,
   "id": "theoretical-tractor",
   "metadata": {
    "scrolled": false
   },
   "outputs": [
    {
     "data": {
      "application/vnd.plotly.v1+json": {
       "config": {
        "linkText": "Export to plot.ly",
        "plotlyServerURL": "https://plot.ly",
        "showLink": false
       },
       "data": [
        {
         "marker": {
          "color": "rgb(255, 230, 153)"
         },
         "name": "exposure",
         "type": "bar",
         "x": [
          "gas",
          "solid",
          "electric"
         ],
         "y": [
          0.36036036036036034,
          0.3103103103103103,
          0.32932932932932935
         ],
         "yaxis": "y"
        },
        {
         "marker": {
          "color": "rgb(255, 73, 164)"
         },
         "name": "conversion",
         "type": "scatter",
         "x": [
          "gas",
          "solid",
          "electric"
         ],
         "y": [
          0.7861111111111111,
          0.9483870967741935,
          0.5227963525835866
         ],
         "yaxis": "y2"
        },
        {
         "marker": {
          "color": "rgb(0, 102, 0)"
         },
         "name": "prediction",
         "type": "scatter",
         "x": [
          "gas",
          "solid",
          "electric"
         ],
         "y": [
          0.8610749238688038,
          0.8613323464748006,
          0.5227963525835859
         ],
         "yaxis": "y2"
        },
        {
         "marker": {
          "color": "rgb(0, 255, 0)"
         },
         "name": "multivar",
         "type": "scatter",
         "x": [
          "gas",
          "solid",
          "electric"
         ],
         "y": [
          0.5,
          0.5,
          0.1491462085662846
         ],
         "yaxis": "y2"
        }
       ],
       "layout": {
        "barmode": "stack",
        "template": {
         "data": {
          "bar": [
           {
            "error_x": {
             "color": "#2a3f5f"
            },
            "error_y": {
             "color": "#2a3f5f"
            },
            "marker": {
             "line": {
              "color": "#E5ECF6",
              "width": 0.5
             }
            },
            "type": "bar"
           }
          ],
          "barpolar": [
           {
            "marker": {
             "line": {
              "color": "#E5ECF6",
              "width": 0.5
             }
            },
            "type": "barpolar"
           }
          ],
          "carpet": [
           {
            "aaxis": {
             "endlinecolor": "#2a3f5f",
             "gridcolor": "white",
             "linecolor": "white",
             "minorgridcolor": "white",
             "startlinecolor": "#2a3f5f"
            },
            "baxis": {
             "endlinecolor": "#2a3f5f",
             "gridcolor": "white",
             "linecolor": "white",
             "minorgridcolor": "white",
             "startlinecolor": "#2a3f5f"
            },
            "type": "carpet"
           }
          ],
          "choropleth": [
           {
            "colorbar": {
             "outlinewidth": 0,
             "ticks": ""
            },
            "type": "choropleth"
           }
          ],
          "contour": [
           {
            "colorbar": {
             "outlinewidth": 0,
             "ticks": ""
            },
            "colorscale": [
             [
              0,
              "#0d0887"
             ],
             [
              0.1111111111111111,
              "#46039f"
             ],
             [
              0.2222222222222222,
              "#7201a8"
             ],
             [
              0.3333333333333333,
              "#9c179e"
             ],
             [
              0.4444444444444444,
              "#bd3786"
             ],
             [
              0.5555555555555556,
              "#d8576b"
             ],
             [
              0.6666666666666666,
              "#ed7953"
             ],
             [
              0.7777777777777778,
              "#fb9f3a"
             ],
             [
              0.8888888888888888,
              "#fdca26"
             ],
             [
              1,
              "#f0f921"
             ]
            ],
            "type": "contour"
           }
          ],
          "contourcarpet": [
           {
            "colorbar": {
             "outlinewidth": 0,
             "ticks": ""
            },
            "type": "contourcarpet"
           }
          ],
          "heatmap": [
           {
            "colorbar": {
             "outlinewidth": 0,
             "ticks": ""
            },
            "colorscale": [
             [
              0,
              "#0d0887"
             ],
             [
              0.1111111111111111,
              "#46039f"
             ],
             [
              0.2222222222222222,
              "#7201a8"
             ],
             [
              0.3333333333333333,
              "#9c179e"
             ],
             [
              0.4444444444444444,
              "#bd3786"
             ],
             [
              0.5555555555555556,
              "#d8576b"
             ],
             [
              0.6666666666666666,
              "#ed7953"
             ],
             [
              0.7777777777777778,
              "#fb9f3a"
             ],
             [
              0.8888888888888888,
              "#fdca26"
             ],
             [
              1,
              "#f0f921"
             ]
            ],
            "type": "heatmap"
           }
          ],
          "heatmapgl": [
           {
            "colorbar": {
             "outlinewidth": 0,
             "ticks": ""
            },
            "colorscale": [
             [
              0,
              "#0d0887"
             ],
             [
              0.1111111111111111,
              "#46039f"
             ],
             [
              0.2222222222222222,
              "#7201a8"
             ],
             [
              0.3333333333333333,
              "#9c179e"
             ],
             [
              0.4444444444444444,
              "#bd3786"
             ],
             [
              0.5555555555555556,
              "#d8576b"
             ],
             [
              0.6666666666666666,
              "#ed7953"
             ],
             [
              0.7777777777777778,
              "#fb9f3a"
             ],
             [
              0.8888888888888888,
              "#fdca26"
             ],
             [
              1,
              "#f0f921"
             ]
            ],
            "type": "heatmapgl"
           }
          ],
          "histogram": [
           {
            "marker": {
             "colorbar": {
              "outlinewidth": 0,
              "ticks": ""
             }
            },
            "type": "histogram"
           }
          ],
          "histogram2d": [
           {
            "colorbar": {
             "outlinewidth": 0,
             "ticks": ""
            },
            "colorscale": [
             [
              0,
              "#0d0887"
             ],
             [
              0.1111111111111111,
              "#46039f"
             ],
             [
              0.2222222222222222,
              "#7201a8"
             ],
             [
              0.3333333333333333,
              "#9c179e"
             ],
             [
              0.4444444444444444,
              "#bd3786"
             ],
             [
              0.5555555555555556,
              "#d8576b"
             ],
             [
              0.6666666666666666,
              "#ed7953"
             ],
             [
              0.7777777777777778,
              "#fb9f3a"
             ],
             [
              0.8888888888888888,
              "#fdca26"
             ],
             [
              1,
              "#f0f921"
             ]
            ],
            "type": "histogram2d"
           }
          ],
          "histogram2dcontour": [
           {
            "colorbar": {
             "outlinewidth": 0,
             "ticks": ""
            },
            "colorscale": [
             [
              0,
              "#0d0887"
             ],
             [
              0.1111111111111111,
              "#46039f"
             ],
             [
              0.2222222222222222,
              "#7201a8"
             ],
             [
              0.3333333333333333,
              "#9c179e"
             ],
             [
              0.4444444444444444,
              "#bd3786"
             ],
             [
              0.5555555555555556,
              "#d8576b"
             ],
             [
              0.6666666666666666,
              "#ed7953"
             ],
             [
              0.7777777777777778,
              "#fb9f3a"
             ],
             [
              0.8888888888888888,
              "#fdca26"
             ],
             [
              1,
              "#f0f921"
             ]
            ],
            "type": "histogram2dcontour"
           }
          ],
          "mesh3d": [
           {
            "colorbar": {
             "outlinewidth": 0,
             "ticks": ""
            },
            "type": "mesh3d"
           }
          ],
          "parcoords": [
           {
            "line": {
             "colorbar": {
              "outlinewidth": 0,
              "ticks": ""
             }
            },
            "type": "parcoords"
           }
          ],
          "pie": [
           {
            "automargin": true,
            "type": "pie"
           }
          ],
          "scatter": [
           {
            "marker": {
             "colorbar": {
              "outlinewidth": 0,
              "ticks": ""
             }
            },
            "type": "scatter"
           }
          ],
          "scatter3d": [
           {
            "line": {
             "colorbar": {
              "outlinewidth": 0,
              "ticks": ""
             }
            },
            "marker": {
             "colorbar": {
              "outlinewidth": 0,
              "ticks": ""
             }
            },
            "type": "scatter3d"
           }
          ],
          "scattercarpet": [
           {
            "marker": {
             "colorbar": {
              "outlinewidth": 0,
              "ticks": ""
             }
            },
            "type": "scattercarpet"
           }
          ],
          "scattergeo": [
           {
            "marker": {
             "colorbar": {
              "outlinewidth": 0,
              "ticks": ""
             }
            },
            "type": "scattergeo"
           }
          ],
          "scattergl": [
           {
            "marker": {
             "colorbar": {
              "outlinewidth": 0,
              "ticks": ""
             }
            },
            "type": "scattergl"
           }
          ],
          "scattermapbox": [
           {
            "marker": {
             "colorbar": {
              "outlinewidth": 0,
              "ticks": ""
             }
            },
            "type": "scattermapbox"
           }
          ],
          "scatterpolar": [
           {
            "marker": {
             "colorbar": {
              "outlinewidth": 0,
              "ticks": ""
             }
            },
            "type": "scatterpolar"
           }
          ],
          "scatterpolargl": [
           {
            "marker": {
             "colorbar": {
              "outlinewidth": 0,
              "ticks": ""
             }
            },
            "type": "scatterpolargl"
           }
          ],
          "scatterternary": [
           {
            "marker": {
             "colorbar": {
              "outlinewidth": 0,
              "ticks": ""
             }
            },
            "type": "scatterternary"
           }
          ],
          "surface": [
           {
            "colorbar": {
             "outlinewidth": 0,
             "ticks": ""
            },
            "colorscale": [
             [
              0,
              "#0d0887"
             ],
             [
              0.1111111111111111,
              "#46039f"
             ],
             [
              0.2222222222222222,
              "#7201a8"
             ],
             [
              0.3333333333333333,
              "#9c179e"
             ],
             [
              0.4444444444444444,
              "#bd3786"
             ],
             [
              0.5555555555555556,
              "#d8576b"
             ],
             [
              0.6666666666666666,
              "#ed7953"
             ],
             [
              0.7777777777777778,
              "#fb9f3a"
             ],
             [
              0.8888888888888888,
              "#fdca26"
             ],
             [
              1,
              "#f0f921"
             ]
            ],
            "type": "surface"
           }
          ],
          "table": [
           {
            "cells": {
             "fill": {
              "color": "#EBF0F8"
             },
             "line": {
              "color": "white"
             }
            },
            "header": {
             "fill": {
              "color": "#C8D4E3"
             },
             "line": {
              "color": "white"
             }
            },
            "type": "table"
           }
          ]
         },
         "layout": {
          "annotationdefaults": {
           "arrowcolor": "#2a3f5f",
           "arrowhead": 0,
           "arrowwidth": 1
          },
          "autotypenumbers": "strict",
          "coloraxis": {
           "colorbar": {
            "outlinewidth": 0,
            "ticks": ""
           }
          },
          "colorscale": {
           "diverging": [
            [
             0,
             "#8e0152"
            ],
            [
             0.1,
             "#c51b7d"
            ],
            [
             0.2,
             "#de77ae"
            ],
            [
             0.3,
             "#f1b6da"
            ],
            [
             0.4,
             "#fde0ef"
            ],
            [
             0.5,
             "#f7f7f7"
            ],
            [
             0.6,
             "#e6f5d0"
            ],
            [
             0.7,
             "#b8e186"
            ],
            [
             0.8,
             "#7fbc41"
            ],
            [
             0.9,
             "#4d9221"
            ],
            [
             1,
             "#276419"
            ]
           ],
           "sequential": [
            [
             0,
             "#0d0887"
            ],
            [
             0.1111111111111111,
             "#46039f"
            ],
            [
             0.2222222222222222,
             "#7201a8"
            ],
            [
             0.3333333333333333,
             "#9c179e"
            ],
            [
             0.4444444444444444,
             "#bd3786"
            ],
            [
             0.5555555555555556,
             "#d8576b"
            ],
            [
             0.6666666666666666,
             "#ed7953"
            ],
            [
             0.7777777777777778,
             "#fb9f3a"
            ],
            [
             0.8888888888888888,
             "#fdca26"
            ],
            [
             1,
             "#f0f921"
            ]
           ],
           "sequentialminus": [
            [
             0,
             "#0d0887"
            ],
            [
             0.1111111111111111,
             "#46039f"
            ],
            [
             0.2222222222222222,
             "#7201a8"
            ],
            [
             0.3333333333333333,
             "#9c179e"
            ],
            [
             0.4444444444444444,
             "#bd3786"
            ],
            [
             0.5555555555555556,
             "#d8576b"
            ],
            [
             0.6666666666666666,
             "#ed7953"
            ],
            [
             0.7777777777777778,
             "#fb9f3a"
            ],
            [
             0.8888888888888888,
             "#fdca26"
            ],
            [
             1,
             "#f0f921"
            ]
           ]
          },
          "colorway": [
           "#636efa",
           "#EF553B",
           "#00cc96",
           "#ab63fa",
           "#FFA15A",
           "#19d3f3",
           "#FF6692",
           "#B6E880",
           "#FF97FF",
           "#FECB52"
          ],
          "font": {
           "color": "#2a3f5f"
          },
          "geo": {
           "bgcolor": "white",
           "lakecolor": "white",
           "landcolor": "#E5ECF6",
           "showlakes": true,
           "showland": true,
           "subunitcolor": "white"
          },
          "hoverlabel": {
           "align": "left"
          },
          "hovermode": "closest",
          "mapbox": {
           "style": "light"
          },
          "paper_bgcolor": "white",
          "plot_bgcolor": "#E5ECF6",
          "polar": {
           "angularaxis": {
            "gridcolor": "white",
            "linecolor": "white",
            "ticks": ""
           },
           "bgcolor": "#E5ECF6",
           "radialaxis": {
            "gridcolor": "white",
            "linecolor": "white",
            "ticks": ""
           }
          },
          "scene": {
           "xaxis": {
            "backgroundcolor": "#E5ECF6",
            "gridcolor": "white",
            "gridwidth": 2,
            "linecolor": "white",
            "showbackground": true,
            "ticks": "",
            "zerolinecolor": "white"
           },
           "yaxis": {
            "backgroundcolor": "#E5ECF6",
            "gridcolor": "white",
            "gridwidth": 2,
            "linecolor": "white",
            "showbackground": true,
            "ticks": "",
            "zerolinecolor": "white"
           },
           "zaxis": {
            "backgroundcolor": "#E5ECF6",
            "gridcolor": "white",
            "gridwidth": 2,
            "linecolor": "white",
            "showbackground": true,
            "ticks": "",
            "zerolinecolor": "white"
           }
          },
          "shapedefaults": {
           "line": {
            "color": "#2a3f5f"
           }
          },
          "ternary": {
           "aaxis": {
            "gridcolor": "white",
            "linecolor": "white",
            "ticks": ""
           },
           "baxis": {
            "gridcolor": "white",
            "linecolor": "white",
            "ticks": ""
           },
           "bgcolor": "#E5ECF6",
           "caxis": {
            "gridcolor": "white",
            "linecolor": "white",
            "ticks": ""
           }
          },
          "title": {
           "x": 0.05
          },
          "xaxis": {
           "automargin": true,
           "gridcolor": "white",
           "linecolor": "white",
           "ticks": "",
           "title": {
            "standoff": 15
           },
           "zerolinecolor": "white",
           "zerolinewidth": 2
          },
          "yaxis": {
           "automargin": true,
           "gridcolor": "white",
           "linecolor": "white",
           "ticks": "",
           "title": {
            "standoff": 15
           },
           "zerolinecolor": "white",
           "zerolinewidth": 2
          }
         }
        },
        "title": {
         "text": "heating_system"
        },
        "xaxis": {
         "tickvals": [
          "gas",
          "solid",
          "electric"
         ]
        },
        "yaxis": {
         "range": [
          0,
          1
         ],
         "title": {
          "text": "exposure"
         }
        },
        "yaxis2": {
         "overlaying": "y",
         "range": [
          0,
          1
         ],
         "side": "right",
         "title": {
          "text": "converson"
         }
        }
       }
      },
      "text/html": [
       "<div>                            <div id=\"59a8bf75-644e-402a-bb5c-694bc2fd8496\" class=\"plotly-graph-div\" style=\"height:525px; width:100%;\"></div>            <script type=\"text/javascript\">                require([\"plotly\"], function(Plotly) {                    window.PLOTLYENV=window.PLOTLYENV || {};                                    if (document.getElementById(\"59a8bf75-644e-402a-bb5c-694bc2fd8496\")) {                    Plotly.newPlot(                        \"59a8bf75-644e-402a-bb5c-694bc2fd8496\",                        [{\"marker\": {\"color\": \"rgb(255, 230, 153)\"}, \"name\": \"exposure\", \"type\": \"bar\", \"x\": [\"gas\", \"solid\", \"electric\"], \"y\": [0.36036036036036034, 0.3103103103103103, 0.32932932932932935], \"yaxis\": \"y\"}, {\"marker\": {\"color\": \"rgb(255, 73, 164)\"}, \"name\": \"conversion\", \"type\": \"scatter\", \"x\": [\"gas\", \"solid\", \"electric\"], \"y\": [0.7861111111111111, 0.9483870967741935, 0.5227963525835866], \"yaxis\": \"y2\"}, {\"marker\": {\"color\": \"rgb(0, 102, 0)\"}, \"name\": \"prediction\", \"type\": \"scatter\", \"x\": [\"gas\", \"solid\", \"electric\"], \"y\": [0.8610749238688038, 0.8613323464748006, 0.5227963525835859], \"yaxis\": \"y2\"}, {\"marker\": {\"color\": \"rgb(0, 255, 0)\"}, \"name\": \"multivar\", \"type\": \"scatter\", \"x\": [\"gas\", \"solid\", \"electric\"], \"y\": [0.5, 0.5, 0.1491462085662846], \"yaxis\": \"y2\"}],                        {\"barmode\": \"stack\", \"template\": {\"data\": {\"bar\": [{\"error_x\": {\"color\": \"#2a3f5f\"}, \"error_y\": {\"color\": \"#2a3f5f\"}, \"marker\": {\"line\": {\"color\": \"#E5ECF6\", \"width\": 0.5}}, \"type\": \"bar\"}], \"barpolar\": [{\"marker\": {\"line\": {\"color\": \"#E5ECF6\", \"width\": 0.5}}, \"type\": \"barpolar\"}], \"carpet\": [{\"aaxis\": {\"endlinecolor\": \"#2a3f5f\", \"gridcolor\": \"white\", \"linecolor\": \"white\", \"minorgridcolor\": \"white\", \"startlinecolor\": \"#2a3f5f\"}, \"baxis\": {\"endlinecolor\": \"#2a3f5f\", \"gridcolor\": \"white\", \"linecolor\": \"white\", \"minorgridcolor\": \"white\", \"startlinecolor\": \"#2a3f5f\"}, \"type\": \"carpet\"}], \"choropleth\": [{\"colorbar\": {\"outlinewidth\": 0, \"ticks\": \"\"}, \"type\": \"choropleth\"}], \"contour\": [{\"colorbar\": {\"outlinewidth\": 0, \"ticks\": \"\"}, \"colorscale\": [[0.0, \"#0d0887\"], [0.1111111111111111, \"#46039f\"], [0.2222222222222222, \"#7201a8\"], [0.3333333333333333, \"#9c179e\"], [0.4444444444444444, \"#bd3786\"], [0.5555555555555556, \"#d8576b\"], [0.6666666666666666, \"#ed7953\"], [0.7777777777777778, \"#fb9f3a\"], [0.8888888888888888, \"#fdca26\"], [1.0, \"#f0f921\"]], \"type\": \"contour\"}], \"contourcarpet\": [{\"colorbar\": {\"outlinewidth\": 0, \"ticks\": \"\"}, \"type\": \"contourcarpet\"}], \"heatmap\": [{\"colorbar\": {\"outlinewidth\": 0, \"ticks\": \"\"}, \"colorscale\": [[0.0, \"#0d0887\"], [0.1111111111111111, \"#46039f\"], [0.2222222222222222, \"#7201a8\"], [0.3333333333333333, \"#9c179e\"], [0.4444444444444444, \"#bd3786\"], [0.5555555555555556, \"#d8576b\"], [0.6666666666666666, \"#ed7953\"], [0.7777777777777778, \"#fb9f3a\"], [0.8888888888888888, \"#fdca26\"], [1.0, \"#f0f921\"]], \"type\": \"heatmap\"}], \"heatmapgl\": [{\"colorbar\": {\"outlinewidth\": 0, \"ticks\": \"\"}, \"colorscale\": [[0.0, \"#0d0887\"], [0.1111111111111111, \"#46039f\"], [0.2222222222222222, \"#7201a8\"], [0.3333333333333333, \"#9c179e\"], [0.4444444444444444, \"#bd3786\"], [0.5555555555555556, \"#d8576b\"], [0.6666666666666666, \"#ed7953\"], [0.7777777777777778, \"#fb9f3a\"], [0.8888888888888888, \"#fdca26\"], [1.0, \"#f0f921\"]], \"type\": \"heatmapgl\"}], \"histogram\": [{\"marker\": {\"colorbar\": {\"outlinewidth\": 0, \"ticks\": \"\"}}, \"type\": \"histogram\"}], \"histogram2d\": [{\"colorbar\": {\"outlinewidth\": 0, \"ticks\": \"\"}, \"colorscale\": [[0.0, \"#0d0887\"], [0.1111111111111111, \"#46039f\"], [0.2222222222222222, \"#7201a8\"], [0.3333333333333333, \"#9c179e\"], [0.4444444444444444, \"#bd3786\"], [0.5555555555555556, \"#d8576b\"], [0.6666666666666666, \"#ed7953\"], [0.7777777777777778, \"#fb9f3a\"], [0.8888888888888888, \"#fdca26\"], [1.0, \"#f0f921\"]], \"type\": \"histogram2d\"}], \"histogram2dcontour\": [{\"colorbar\": {\"outlinewidth\": 0, \"ticks\": \"\"}, \"colorscale\": [[0.0, \"#0d0887\"], [0.1111111111111111, \"#46039f\"], [0.2222222222222222, \"#7201a8\"], [0.3333333333333333, \"#9c179e\"], [0.4444444444444444, \"#bd3786\"], [0.5555555555555556, \"#d8576b\"], [0.6666666666666666, \"#ed7953\"], [0.7777777777777778, \"#fb9f3a\"], [0.8888888888888888, \"#fdca26\"], [1.0, \"#f0f921\"]], \"type\": \"histogram2dcontour\"}], \"mesh3d\": [{\"colorbar\": {\"outlinewidth\": 0, \"ticks\": \"\"}, \"type\": \"mesh3d\"}], \"parcoords\": [{\"line\": {\"colorbar\": {\"outlinewidth\": 0, \"ticks\": \"\"}}, \"type\": \"parcoords\"}], \"pie\": [{\"automargin\": true, \"type\": \"pie\"}], \"scatter\": [{\"marker\": {\"colorbar\": {\"outlinewidth\": 0, \"ticks\": \"\"}}, \"type\": \"scatter\"}], \"scatter3d\": [{\"line\": {\"colorbar\": {\"outlinewidth\": 0, \"ticks\": \"\"}}, \"marker\": {\"colorbar\": {\"outlinewidth\": 0, \"ticks\": \"\"}}, \"type\": \"scatter3d\"}], \"scattercarpet\": [{\"marker\": {\"colorbar\": {\"outlinewidth\": 0, \"ticks\": \"\"}}, \"type\": \"scattercarpet\"}], \"scattergeo\": [{\"marker\": {\"colorbar\": {\"outlinewidth\": 0, \"ticks\": \"\"}}, \"type\": \"scattergeo\"}], \"scattergl\": [{\"marker\": {\"colorbar\": {\"outlinewidth\": 0, \"ticks\": \"\"}}, \"type\": \"scattergl\"}], \"scattermapbox\": [{\"marker\": {\"colorbar\": {\"outlinewidth\": 0, \"ticks\": \"\"}}, \"type\": \"scattermapbox\"}], \"scatterpolar\": [{\"marker\": {\"colorbar\": {\"outlinewidth\": 0, \"ticks\": \"\"}}, \"type\": \"scatterpolar\"}], \"scatterpolargl\": [{\"marker\": {\"colorbar\": {\"outlinewidth\": 0, \"ticks\": \"\"}}, \"type\": \"scatterpolargl\"}], \"scatterternary\": [{\"marker\": {\"colorbar\": {\"outlinewidth\": 0, \"ticks\": \"\"}}, \"type\": \"scatterternary\"}], \"surface\": [{\"colorbar\": {\"outlinewidth\": 0, \"ticks\": \"\"}, \"colorscale\": [[0.0, \"#0d0887\"], [0.1111111111111111, \"#46039f\"], [0.2222222222222222, \"#7201a8\"], [0.3333333333333333, \"#9c179e\"], [0.4444444444444444, \"#bd3786\"], [0.5555555555555556, \"#d8576b\"], [0.6666666666666666, \"#ed7953\"], [0.7777777777777778, \"#fb9f3a\"], [0.8888888888888888, \"#fdca26\"], [1.0, \"#f0f921\"]], \"type\": \"surface\"}], \"table\": [{\"cells\": {\"fill\": {\"color\": \"#EBF0F8\"}, \"line\": {\"color\": \"white\"}}, \"header\": {\"fill\": {\"color\": \"#C8D4E3\"}, \"line\": {\"color\": \"white\"}}, \"type\": \"table\"}]}, \"layout\": {\"annotationdefaults\": {\"arrowcolor\": \"#2a3f5f\", \"arrowhead\": 0, \"arrowwidth\": 1}, \"autotypenumbers\": \"strict\", \"coloraxis\": {\"colorbar\": {\"outlinewidth\": 0, \"ticks\": \"\"}}, \"colorscale\": {\"diverging\": [[0, \"#8e0152\"], [0.1, \"#c51b7d\"], [0.2, \"#de77ae\"], [0.3, \"#f1b6da\"], [0.4, \"#fde0ef\"], [0.5, \"#f7f7f7\"], [0.6, \"#e6f5d0\"], [0.7, \"#b8e186\"], [0.8, \"#7fbc41\"], [0.9, \"#4d9221\"], [1, \"#276419\"]], \"sequential\": [[0.0, \"#0d0887\"], [0.1111111111111111, \"#46039f\"], [0.2222222222222222, \"#7201a8\"], [0.3333333333333333, \"#9c179e\"], [0.4444444444444444, \"#bd3786\"], [0.5555555555555556, \"#d8576b\"], [0.6666666666666666, \"#ed7953\"], [0.7777777777777778, \"#fb9f3a\"], [0.8888888888888888, \"#fdca26\"], [1.0, \"#f0f921\"]], \"sequentialminus\": [[0.0, \"#0d0887\"], [0.1111111111111111, \"#46039f\"], [0.2222222222222222, \"#7201a8\"], [0.3333333333333333, \"#9c179e\"], [0.4444444444444444, \"#bd3786\"], [0.5555555555555556, \"#d8576b\"], [0.6666666666666666, \"#ed7953\"], [0.7777777777777778, \"#fb9f3a\"], [0.8888888888888888, \"#fdca26\"], [1.0, \"#f0f921\"]]}, \"colorway\": [\"#636efa\", \"#EF553B\", \"#00cc96\", \"#ab63fa\", \"#FFA15A\", \"#19d3f3\", \"#FF6692\", \"#B6E880\", \"#FF97FF\", \"#FECB52\"], \"font\": {\"color\": \"#2a3f5f\"}, \"geo\": {\"bgcolor\": \"white\", \"lakecolor\": \"white\", \"landcolor\": \"#E5ECF6\", \"showlakes\": true, \"showland\": true, \"subunitcolor\": \"white\"}, \"hoverlabel\": {\"align\": \"left\"}, \"hovermode\": \"closest\", \"mapbox\": {\"style\": \"light\"}, \"paper_bgcolor\": \"white\", \"plot_bgcolor\": \"#E5ECF6\", \"polar\": {\"angularaxis\": {\"gridcolor\": \"white\", \"linecolor\": \"white\", \"ticks\": \"\"}, \"bgcolor\": \"#E5ECF6\", \"radialaxis\": {\"gridcolor\": \"white\", \"linecolor\": \"white\", \"ticks\": \"\"}}, \"scene\": {\"xaxis\": {\"backgroundcolor\": \"#E5ECF6\", \"gridcolor\": \"white\", \"gridwidth\": 2, \"linecolor\": \"white\", \"showbackground\": true, \"ticks\": \"\", \"zerolinecolor\": \"white\"}, \"yaxis\": {\"backgroundcolor\": \"#E5ECF6\", \"gridcolor\": \"white\", \"gridwidth\": 2, \"linecolor\": \"white\", \"showbackground\": true, \"ticks\": \"\", \"zerolinecolor\": \"white\"}, \"zaxis\": {\"backgroundcolor\": \"#E5ECF6\", \"gridcolor\": \"white\", \"gridwidth\": 2, \"linecolor\": \"white\", \"showbackground\": true, \"ticks\": \"\", \"zerolinecolor\": \"white\"}}, \"shapedefaults\": {\"line\": {\"color\": \"#2a3f5f\"}}, \"ternary\": {\"aaxis\": {\"gridcolor\": \"white\", \"linecolor\": \"white\", \"ticks\": \"\"}, \"baxis\": {\"gridcolor\": \"white\", \"linecolor\": \"white\", \"ticks\": \"\"}, \"bgcolor\": \"#E5ECF6\", \"caxis\": {\"gridcolor\": \"white\", \"linecolor\": \"white\", \"ticks\": \"\"}}, \"title\": {\"x\": 0.05}, \"xaxis\": {\"automargin\": true, \"gridcolor\": \"white\", \"linecolor\": \"white\", \"ticks\": \"\", \"title\": {\"standoff\": 15}, \"zerolinecolor\": \"white\", \"zerolinewidth\": 2}, \"yaxis\": {\"automargin\": true, \"gridcolor\": \"white\", \"linecolor\": \"white\", \"ticks\": \"\", \"title\": {\"standoff\": 15}, \"zerolinecolor\": \"white\", \"zerolinewidth\": 2}}}, \"title\": {\"text\": \"heating_system\"}, \"xaxis\": {\"tickvals\": [\"gas\", \"solid\", \"electric\"]}, \"yaxis\": {\"range\": [0, 1], \"title\": {\"text\": \"exposure\"}}, \"yaxis2\": {\"overlaying\": \"y\", \"range\": [0, 1], \"side\": \"right\", \"title\": {\"text\": \"converson\"}}},                        {\"responsive\": true}                    ).then(function(){\n",
       "                            \n",
       "var gd = document.getElementById('59a8bf75-644e-402a-bb5c-694bc2fd8496');\n",
       "var x = new MutationObserver(function (mutations, observer) {{\n",
       "        var display = window.getComputedStyle(gd).display;\n",
       "        if (!display || display === 'none') {{\n",
       "            console.log([gd, 'removed!']);\n",
       "            Plotly.purge(gd);\n",
       "            observer.disconnect();\n",
       "        }}\n",
       "}});\n",
       "\n",
       "// Listen for the removal of the full notebook cells\n",
       "var notebookContainer = gd.closest('#notebook-container');\n",
       "if (notebookContainer) {{\n",
       "    x.observe(notebookContainer, {childList: true});\n",
       "}}\n",
       "\n",
       "// Listen for the clearing of the current output cell\n",
       "var outputEl = gd.closest('.output');\n",
       "if (outputEl) {{\n",
       "    x.observe(outputEl, {childList: true});\n",
       "}}\n",
       "\n",
       "                        })                };                });            </script>        </div>"
      ]
     },
     "metadata": {},
     "output_type": "display_data"
    }
   ],
   "source": [
    "emblem_display(\"heating_system\")"
   ]
  },
  {
   "cell_type": "code",
   "execution_count": 177,
   "id": "southwest-daniel",
   "metadata": {},
   "outputs": [
    {
     "name": "stdout",
     "output_type": "stream",
     "text": [
      "heating_system_electric\n",
      "{'gas': 0, 'solid': 0, 'electric': 0.6491462085662846}\n"
     ]
    }
   ],
   "source": [
    "df = set(output[\"heating_system\"])\n",
    "\n",
    "\n",
    "multivar = dict.fromkeys(df, 0)\n",
    "\n",
    "\n",
    "for i in df:\n",
    "    \n",
    "    #print(i)\n",
    "    if str(\"heating_system\" + \"_\" + i) in factors_fitted:\n",
    "        print(str(\"heating_system\" + \"_\" + i))\n",
    "        \n",
    "        multivar[i] = 0.5+math.exp(model.params[\"heating_system\" + \"_\" + i])/(1+(math.exp(model.params[\"heating_system\" + \"_\" + i])))\n",
    "        \n",
    "        print(multivar)\n",
    "        "
   ]
  },
  {
   "cell_type": "code",
   "execution_count": 166,
   "id": "junior-prototype",
   "metadata": {},
   "outputs": [],
   "source": [
    "#iteration3\n",
    "\n",
    "\n",
    "\n",
    "\n",
    "\n",
    "def emblem_display (factor):\n",
    "\n",
    "    df = set(output[factor])\n",
    "    exposure =  dict.fromkeys(df, 0)\n",
    "    count = dict.fromkeys(df, 0)\n",
    "    conversion = dict.fromkeys(df, 0)\n",
    "    prediction = dict.fromkeys(df, 0)\n",
    "    exp_tot = output['weight'].sum()\n",
    "    multivar = dict.fromkeys(df, 0)\n",
    "\n",
    "\n",
    "    for i in df:\n",
    "        exposure[i] = output.loc[output[factor] == i, 'weight'].sum()\n",
    "        count[i] = output.loc[output[factor] == i, 'converted'].sum()\n",
    "        conversion[i] = count[i]/exposure[i]\n",
    "        prediction[i] = output.loc[output[factor] == i, 'predictions'].sum()/exposure[i]\n",
    "        exposure[i] = exposure[i]/exp_tot\n",
    "\n",
    "        if factor in factors_fitted:\n",
    "            multivar[i] = math.exp(i*model.params[factor])/(1+(math.exp(i*model.params[factor])))\n",
    "        else:\n",
    "            multivar[i] = 0.5\n",
    "    fig = go.Figure()\n",
    "    #fig.add_trace(go.Bar(x= list(exposure.keys()), y=list(exposure.values())))\n",
    "    #fig.add_trace(go.scatter(x= list(conversion.keys()), y=list(conversion.values())))\n",
    "\n",
    "    data = [\n",
    "        go.Bar(\n",
    "            x= list(exposure.keys()), \n",
    "            y= list(exposure.values()),\n",
    "            yaxis='y1',\n",
    "            marker_color='rgb(255, 230, 153)',\n",
    "            name = \"exposure\"\n",
    "        ),\n",
    "        go.Scatter(\n",
    "            x= list(conversion.keys()),\n",
    "            y= list(conversion.values()),\n",
    "            yaxis='y2',\n",
    "            marker_color='rgb(255, 73, 164)',\n",
    "            name = \"conversion\"\n",
    "        ),\n",
    "        go.Scatter(\n",
    "            x= list(prediction.keys()),\n",
    "            y= list(prediction.values()),\n",
    "            yaxis='y2',\n",
    "            marker_color='rgb(0, 102, 0)',\n",
    "            name = \"prediction\"\n",
    "        ),\n",
    "        go.Scatter(\n",
    "            x= list(multivar.keys()),\n",
    "            y= list(multivar.values()),\n",
    "            yaxis='y2',\n",
    "            marker_color='rgb(0, 255, 0)',\n",
    "            name = \"multivar\"\n",
    "        )\n",
    "\n",
    "    ]\n",
    "\n",
    "    layout = go.Layout(\n",
    "        barmode='stack',\n",
    "        title=factor,\n",
    "        xaxis = dict(tickvals=list(exposure.keys())),\n",
    "        yaxis=dict(title='exposure',\n",
    "                  range = [0,1]),\n",
    "        yaxis2=dict(title='converson',\n",
    "        overlaying='y',\n",
    "        side='right',\n",
    "        range = [0,1])\n",
    "    )\n",
    "\n",
    "    fig = go.Figure(data=data, layout=layout)\n",
    "    #fig.update_yaxes(range=[3, 9])\n",
    "    #fig.add_trace(secondary_y=True)\n",
    "    # IPython notebook\n",
    "    iplot(fig, filename='pandas-bar-chart-layout')"
   ]
  },
  {
   "cell_type": "code",
   "execution_count": null,
   "id": "honey-indication",
   "metadata": {},
   "outputs": [],
   "source": [
    "name[\"time\"] = {\"levels\":set(heating_df[i])}\n",
    "name"
   ]
  },
  {
   "cell_type": "code",
   "execution_count": null,
   "id": "nutritional-lafayette",
   "metadata": {},
   "outputs": [],
   "source": [
    "#iteration 2\n",
    "\n",
    "fig = go.Figure()\n",
    "\n",
    "\n",
    "buttons=[]\n",
    "\n",
    "buttons.append(dict(method='restyle',\n",
    "                    label='Data Scientist',\n",
    "                    visible=True,\n",
    "                    args=[{'y':[Roles['Data Scientist'].Q4.value_counts().values],\n",
    "                           'x':[Roles['Data Scientist'].Q4.value_counts().index],\n",
    "                           'type':'bar'}, [0]],\n",
    "                    )\n",
    "              )\n",
    "\n",
    "\n",
    "\n",
    "data = [\n",
    "    go.Bar(\n",
    "        x= list(exposure.keys()), \n",
    "        y= list(exposure.values()),\n",
    "        yaxis='y1'\n",
    "    ),\n",
    "    go.Scatter(\n",
    "        x= list(conversion.keys()),\n",
    "        y= list(conversion.values()),\n",
    "        yaxis='y2'\n",
    "    )]\n",
    "\n",
    "layout = go.Layout(\n",
    "    barmode='stack',\n",
    "    title='num_bedroom',\n",
    "    xaxis = dict(tickvals=list(exposure.keys())),\n",
    "    yaxis=dict(title='exposure'),\n",
    "    yaxis2=dict(title='converson',\n",
    "    overlaying='y',\n",
    "    side='right',\n",
    "    range = [0,1])\n",
    ")\n",
    "\n",
    "fig = go.Figure(data=data, layout=layout)\n",
    "#fig.update_yaxes(range=[3, 9])\n",
    "#fig.add_trace(secondary_y=True)\n",
    "# IPython notebook\n",
    "iplot(fig, filename='pandas-bar-chart-layout')"
   ]
  },
  {
   "cell_type": "code",
   "execution_count": null,
   "id": "exceptional-bacon",
   "metadata": {},
   "outputs": [],
   "source": []
  },
  {
   "cell_type": "code",
   "execution_count": null,
   "id": "freelance-excitement",
   "metadata": {},
   "outputs": [],
   "source": []
  },
  {
   "cell_type": "code",
   "execution_count": null,
   "id": "supreme-accessory",
   "metadata": {},
   "outputs": [],
   "source": []
  },
  {
   "cell_type": "code",
   "execution_count": null,
   "id": "extreme-transport",
   "metadata": {
    "scrolled": true
   },
   "outputs": [],
   "source": [
    "fig = go.Figure()\n",
    "fig.add_trace(go.Bar(x= edu.index, y=edu.values))\n",
    "\n",
    "#buttons are the things you see in the dropdown \n",
    "buttons = []\n",
    "\n",
    "#for each graph we want to show, we need a button for it\n",
    "#you can do a lot with dropdowns, not just replace data \n",
    "buttons.append(dict(method='restyle',\n",
    "                    label='2',\n",
    "                    visible=True,\n",
    "                    args=[{'y':[Roles[2].converted.value_counts().values],\n",
    "                           'x':[Roles.keys()],\n",
    "                           'type':'bar'}, [0]],\n",
    "                    )\n",
    "              )\n",
    "buttons.append(dict(method='restyle',\n",
    "                    label='3',\n",
    "                    visible=True,\n",
    "                    args=[{'y':[Roles[3].converted.value_counts().values],\n",
    "                           'x':[Roles[3].converted.value_counts().index],\n",
    "                           'type':'bar'}, [0]],\n",
    "                    )\n",
    "              )\n",
    "buttons.append(dict(method='restyle',\n",
    "                    label='4',\n",
    "                    visible=True,\n",
    "                    args=[{'y':[Roles[4].converted.value_counts().values],\n",
    "                           'x':[Roles[4].converted.value_counts().index],\n",
    "                           'type':'bar'}, [0]],\n",
    "                    )\n",
    "              )\n",
    "\n",
    "#to get a menu to show, you need to create an updatemenu. \n",
    "#at this point I had no clue how it worked, I just was trying to get something to run\n",
    "\n",
    "updatemenu = []\n",
    "your_menu = {}\n",
    "updatemenu.append(your_menu)\n",
    "\n",
    "updatemenu[0]['buttons'] = buttons\n",
    "updatemenu[0]['direction'] = 'down'\n",
    "updatemenu[0]['showactive'] = True\n",
    "\n",
    "# add dropdown menus to the figure\n",
    "fig.update_layout(showlegend=False, updatemenus=updatemenu)\n",
    "fig.show()"
   ]
  },
  {
   "cell_type": "code",
   "execution_count": null,
   "id": "wireless-evolution",
   "metadata": {},
   "outputs": [],
   "source": []
  },
  {
   "cell_type": "code",
   "execution_count": null,
   "id": "single-crown",
   "metadata": {},
   "outputs": [],
   "source": []
  },
  {
   "cell_type": "code",
   "execution_count": null,
   "id": "received-modification",
   "metadata": {},
   "outputs": [],
   "source": []
  },
  {
   "cell_type": "code",
   "execution_count": null,
   "id": "pressing-division",
   "metadata": {},
   "outputs": [],
   "source": []
  },
  {
   "cell_type": "code",
   "execution_count": null,
   "id": "nervous-remove",
   "metadata": {},
   "outputs": [],
   "source": []
  },
  {
   "cell_type": "code",
   "execution_count": null,
   "id": "forward-plastic",
   "metadata": {},
   "outputs": [],
   "source": []
  },
  {
   "cell_type": "code",
   "execution_count": null,
   "id": "missing-voice",
   "metadata": {},
   "outputs": [],
   "source": []
  },
  {
   "cell_type": "code",
   "execution_count": null,
   "id": "knowing-depression",
   "metadata": {},
   "outputs": [],
   "source": []
  },
  {
   "cell_type": "code",
   "execution_count": null,
   "id": "simple-genome",
   "metadata": {},
   "outputs": [],
   "source": []
  },
  {
   "cell_type": "code",
   "execution_count": null,
   "id": "universal-mailman",
   "metadata": {},
   "outputs": [],
   "source": []
  }
 ],
 "metadata": {
  "kernelspec": {
   "display_name": "Python 3",
   "language": "python",
   "name": "python3"
  },
  "language_info": {
   "codemirror_mode": {
    "name": "ipython",
    "version": 3
   },
   "file_extension": ".py",
   "mimetype": "text/x-python",
   "name": "python",
   "nbconvert_exporter": "python",
   "pygments_lexer": "ipython3",
   "version": "3.8.5"
  }
 },
 "nbformat": 4,
 "nbformat_minor": 5
}
